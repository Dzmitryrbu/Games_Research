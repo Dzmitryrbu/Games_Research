{
 "cells": [
  {
   "cell_type": "markdown",
   "id": "c20015f6",
   "metadata": {
    "heading_collapsed": true
   },
   "source": [
    "## Project Description"
   ]
  },
  {
   "cell_type": "markdown",
   "id": "9b6f3bc3",
   "metadata": {
    "hidden": true
   },
   "source": [
    "The Strimchik online store sells computer games all over the world. Historical game sales data, user and expert ratings, genres and platforms (such as Xbox or PlayStation) are available from public sources. It is necessary to identify patterns that determine the success of the game. This will allow you to bid on a potentially popular product and plan advertising campaigns.\n",
    "\n",
    "Data provided up to 2016. Let's say it's December 2016 and we're planning a campaign for 2017. It is necessary to work out the principle of working with data.\n",
    "\n",
    "The abbreviation ESRB (Entertainment Software Rating Board) comes across in the data set - this is an association that determines the age rating of computer games. The ESRB evaluates game content and assigns it to an appropriate age rating, such as Mature, Toddler, or Teen."
   ]
  },
  {
   "cell_type": "markdown",
   "id": "5c1611ab",
   "metadata": {
    "heading_collapsed": true
   },
   "source": [
    "## Data exploration"
   ]
  },
  {
   "cell_type": "code",
   "execution_count": 1,
   "id": "4f55a1d5",
   "metadata": {
    "hidden": true
   },
   "outputs": [],
   "source": [
    "# Import libraries\n",
    "import pandas as pd\n",
    "import datetime as dt\n",
    "import numpy as np\n",
    "import math\n",
    "from matplotlib import pyplot as plt\n",
    "from scipy import stats as st"
   ]
  },
  {
   "cell_type": "code",
   "execution_count": 2,
   "id": "de685d64",
   "metadata": {
    "hidden": true,
    "scrolled": true
   },
   "outputs": [],
   "source": [
    "# Read file into dataframe\n",
    "games_data = pd.read_csv('games.csv')"
   ]
  },
  {
   "cell_type": "code",
   "execution_count": 3,
   "id": "8b27d7a0",
   "metadata": {
    "hidden": true
   },
   "outputs": [
    {
     "name": "stdout",
     "output_type": "stream",
     "text": [
      "<class 'pandas.core.frame.DataFrame'>\n",
      "RangeIndex: 16715 entries, 0 to 16714\n",
      "Data columns (total 11 columns):\n",
      " #   Column           Non-Null Count  Dtype  \n",
      "---  ------           --------------  -----  \n",
      " 0   Name             16713 non-null  object \n",
      " 1   Platform         16715 non-null  object \n",
      " 2   Year_of_Release  16446 non-null  float64\n",
      " 3   Genre            16713 non-null  object \n",
      " 4   NA_sales         16715 non-null  float64\n",
      " 5   EU_sales         16715 non-null  float64\n",
      " 6   JP_sales         16715 non-null  float64\n",
      " 7   Other_sales      16715 non-null  float64\n",
      " 8   Critic_Score     8137 non-null   float64\n",
      " 9   User_Score       10014 non-null  object \n",
      " 10  Rating           9949 non-null   object \n",
      "dtypes: float64(6), object(5)\n",
      "memory usage: 1.4+ MB\n"
     ]
    }
   ],
   "source": [
    "# Get information about the dataframe\n",
    "games_data.info()"
   ]
  },
  {
   "cell_type": "code",
   "execution_count": 4,
   "id": "9aac2cc0",
   "metadata": {
    "hidden": true
   },
   "outputs": [
    {
     "data": {
      "text/html": [
       "<div>\n",
       "<style scoped>\n",
       "    .dataframe tbody tr th:only-of-type {\n",
       "        vertical-align: middle;\n",
       "    }\n",
       "\n",
       "    .dataframe tbody tr th {\n",
       "        vertical-align: top;\n",
       "    }\n",
       "\n",
       "    .dataframe thead th {\n",
       "        text-align: right;\n",
       "    }\n",
       "</style>\n",
       "<table border=\"1\" class=\"dataframe\">\n",
       "  <thead>\n",
       "    <tr style=\"text-align: right;\">\n",
       "      <th></th>\n",
       "      <th>Name</th>\n",
       "      <th>Platform</th>\n",
       "      <th>Year_of_Release</th>\n",
       "      <th>Genre</th>\n",
       "      <th>NA_sales</th>\n",
       "      <th>EU_sales</th>\n",
       "      <th>JP_sales</th>\n",
       "      <th>Other_sales</th>\n",
       "      <th>Critic_Score</th>\n",
       "      <th>User_Score</th>\n",
       "      <th>Rating</th>\n",
       "    </tr>\n",
       "  </thead>\n",
       "  <tbody>\n",
       "    <tr>\n",
       "      <th>0</th>\n",
       "      <td>Wii Sports</td>\n",
       "      <td>Wii</td>\n",
       "      <td>2006.0</td>\n",
       "      <td>Sports</td>\n",
       "      <td>41.36</td>\n",
       "      <td>28.96</td>\n",
       "      <td>3.77</td>\n",
       "      <td>8.45</td>\n",
       "      <td>76.0</td>\n",
       "      <td>8</td>\n",
       "      <td>E</td>\n",
       "    </tr>\n",
       "    <tr>\n",
       "      <th>1</th>\n",
       "      <td>Super Mario Bros.</td>\n",
       "      <td>NES</td>\n",
       "      <td>1985.0</td>\n",
       "      <td>Platform</td>\n",
       "      <td>29.08</td>\n",
       "      <td>3.58</td>\n",
       "      <td>6.81</td>\n",
       "      <td>0.77</td>\n",
       "      <td>NaN</td>\n",
       "      <td>NaN</td>\n",
       "      <td>NaN</td>\n",
       "    </tr>\n",
       "    <tr>\n",
       "      <th>2</th>\n",
       "      <td>Mario Kart Wii</td>\n",
       "      <td>Wii</td>\n",
       "      <td>2008.0</td>\n",
       "      <td>Racing</td>\n",
       "      <td>15.68</td>\n",
       "      <td>12.76</td>\n",
       "      <td>3.79</td>\n",
       "      <td>3.29</td>\n",
       "      <td>82.0</td>\n",
       "      <td>8.3</td>\n",
       "      <td>E</td>\n",
       "    </tr>\n",
       "    <tr>\n",
       "      <th>3</th>\n",
       "      <td>Wii Sports Resort</td>\n",
       "      <td>Wii</td>\n",
       "      <td>2009.0</td>\n",
       "      <td>Sports</td>\n",
       "      <td>15.61</td>\n",
       "      <td>10.93</td>\n",
       "      <td>3.28</td>\n",
       "      <td>2.95</td>\n",
       "      <td>80.0</td>\n",
       "      <td>8</td>\n",
       "      <td>E</td>\n",
       "    </tr>\n",
       "    <tr>\n",
       "      <th>4</th>\n",
       "      <td>Pokemon Red/Pokemon Blue</td>\n",
       "      <td>GB</td>\n",
       "      <td>1996.0</td>\n",
       "      <td>Role-Playing</td>\n",
       "      <td>11.27</td>\n",
       "      <td>8.89</td>\n",
       "      <td>10.22</td>\n",
       "      <td>1.00</td>\n",
       "      <td>NaN</td>\n",
       "      <td>NaN</td>\n",
       "      <td>NaN</td>\n",
       "    </tr>\n",
       "  </tbody>\n",
       "</table>\n",
       "</div>"
      ],
      "text/plain": [
       "                       Name Platform  Year_of_Release         Genre  NA_sales  \\\n",
       "0                Wii Sports      Wii           2006.0        Sports     41.36   \n",
       "1         Super Mario Bros.      NES           1985.0      Platform     29.08   \n",
       "2            Mario Kart Wii      Wii           2008.0        Racing     15.68   \n",
       "3         Wii Sports Resort      Wii           2009.0        Sports     15.61   \n",
       "4  Pokemon Red/Pokemon Blue       GB           1996.0  Role-Playing     11.27   \n",
       "\n",
       "   EU_sales  JP_sales  Other_sales  Critic_Score User_Score Rating  \n",
       "0     28.96      3.77         8.45          76.0          8      E  \n",
       "1      3.58      6.81         0.77           NaN        NaN    NaN  \n",
       "2     12.76      3.79         3.29          82.0        8.3      E  \n",
       "3     10.93      3.28         2.95          80.0          8      E  \n",
       "4      8.89     10.22         1.00           NaN        NaN    NaN  "
      ]
     },
     "execution_count": 4,
     "metadata": {},
     "output_type": "execute_result"
    }
   ],
   "source": [
    "# Look at the structure of the dataframe\n",
    "games_data.head()"
   ]
  },
  {
   "cell_type": "code",
   "execution_count": 5,
   "id": "36971523",
   "metadata": {
    "hidden": true
   },
   "outputs": [
    {
     "data": {
      "text/plain": [
       "Name                  2\n",
       "Platform              0\n",
       "Year_of_Release     269\n",
       "Genre                 2\n",
       "NA_sales              0\n",
       "EU_sales              0\n",
       "JP_sales              0\n",
       "Other_sales           0\n",
       "Critic_Score       8578\n",
       "User_Score         6701\n",
       "Rating             6766\n",
       "dtype: int64"
      ]
     },
     "execution_count": 5,
     "metadata": {},
     "output_type": "execute_result"
    }
   ],
   "source": [
    "# Find out the number of gaps in columns\n",
    "games_data.isna().sum()"
   ]
  },
  {
   "cell_type": "code",
   "execution_count": 6,
   "id": "0fc5cc58",
   "metadata": {
    "hidden": true
   },
   "outputs": [
    {
     "data": {
      "text/plain": [
       "0"
      ]
     },
     "execution_count": 6,
     "metadata": {},
     "output_type": "execute_result"
    }
   ],
   "source": [
    "# Find out the number of duplicates by dataframe\n",
    "games_data.duplicated().sum()"
   ]
  },
  {
   "cell_type": "markdown",
   "id": "1779f7ca",
   "metadata": {
    "heading_collapsed": true
   },
   "source": [
    "## Data preparation"
   ]
  },
  {
   "cell_type": "markdown",
   "id": "ac344736",
   "metadata": {
    "hidden": true
   },
   "source": [
    "### Converting column names to common case"
   ]
  },
  {
   "cell_type": "code",
   "execution_count": 7,
   "id": "970e0dec",
   "metadata": {
    "hidden": true
   },
   "outputs": [
    {
     "data": {
      "text/plain": [
       "Index(['name', 'platform', 'year_of_release', 'genre', 'na_sales', 'eu_sales',\n",
       "       'jp_sales', 'other_sales', 'critic_score', 'user_score', 'rating'],\n",
       "      dtype='object')"
      ]
     },
     "execution_count": 7,
     "metadata": {},
     "output_type": "execute_result"
    }
   ],
   "source": [
    "# Convert the data to lowercase and check the result\n",
    "games_data.columns = games_data.columns.str.lower()\n",
    "games_data.columns"
   ]
  },
  {
   "cell_type": "markdown",
   "id": "eb871951",
   "metadata": {
    "hidden": true
   },
   "source": [
    "### Сonvert the data to the required types"
   ]
  },
  {
   "cell_type": "markdown",
   "id": "6656fb7c",
   "metadata": {
    "hidden": true
   },
   "source": [
    "According to the information about the data and its presentation, it is necessary to cast the two columns `year_of_release` and `user_score`.\n",
    "`year_of_release` to int and `user_score` to float."
   ]
  },
  {
   "cell_type": "code",
   "execution_count": 8,
   "id": "b540f14d",
   "metadata": {
    "hidden": true
   },
   "outputs": [
    {
     "data": {
      "text/plain": [
       "array([1980., 1981., 1982., 1983., 1984., 1985., 1986., 1987., 1988.,\n",
       "       1989., 1990., 1991., 1992., 1993., 1994., 1995., 1996., 1997.,\n",
       "       1998., 1999., 2000., 2001., 2002., 2003., 2004., 2005., 2006.,\n",
       "       2007., 2008., 2009., 2010., 2011., 2012., 2013., 2014., 2015.,\n",
       "       2016.,   nan])"
      ]
     },
     "execution_count": 8,
     "metadata": {},
     "output_type": "execute_result"
    }
   ],
   "source": [
    "# Float in years column due to NaN\n",
    "games_data['year_of_release'].sort_values().unique()"
   ]
  },
  {
   "cell_type": "code",
   "execution_count": 9,
   "id": "9a6e73fb",
   "metadata": {
    "hidden": true
   },
   "outputs": [],
   "source": [
    "# Replace NaN with -999 to be able to cast the column to int without losing those gaps\n",
    "games_data['year_of_release'] = games_data['year_of_release'].fillna(-999)"
   ]
  },
  {
   "cell_type": "code",
   "execution_count": 10,
   "id": "e75307b3",
   "metadata": {
    "hidden": true,
    "scrolled": false
   },
   "outputs": [
    {
     "data": {
      "text/plain": [
       "array(['0', '0.2', '0.3', '0.5', '0.6', '0.7', '0.9', '1', '1.1', '1.2',\n",
       "       '1.3', '1.4', '1.5', '1.6', '1.7', '1.8', '1.9', '2', '2.1', '2.2',\n",
       "       '2.3', '2.4', '2.5', '2.6', '2.7', '2.8', '2.9', '3', '3.1', '3.2',\n",
       "       '3.3', '3.4', '3.5', '3.6', '3.7', '3.8', '3.9', '4', '4.1', '4.2',\n",
       "       '4.3', '4.4', '4.5', '4.6', '4.7', '4.8', '4.9', '5', '5.1', '5.2',\n",
       "       '5.3', '5.4', '5.5', '5.6', '5.7', '5.8', '5.9', '6', '6.1', '6.2',\n",
       "       '6.3', '6.4', '6.5', '6.6', '6.7', '6.8', '6.9', '7', '7.1', '7.2',\n",
       "       '7.3', '7.4', '7.5', '7.6', '7.7', '7.8', '7.9', '8', '8.1', '8.2',\n",
       "       '8.3', '8.4', '8.5', '8.6', '8.7', '8.8', '8.9', '9', '9.1', '9.2',\n",
       "       '9.3', '9.4', '9.5', '9.6', '9.7', 'tbd', nan], dtype=object)"
      ]
     },
     "execution_count": 10,
     "metadata": {},
     "output_type": "execute_result"
    }
   ],
   "source": [
    "# Object in score column due to unknown \"tbd\", NaN also present\n",
    "games_data['user_score'].sort_values().unique()"
   ]
  },
  {
   "cell_type": "code",
   "execution_count": 11,
   "id": "12ee1de3",
   "metadata": {
    "hidden": true
   },
   "outputs": [
    {
     "data": {
      "text/plain": [
       "array(['0', '0.2', '0.3', '0.5', '0.6', '0.7', '0.9', '1', '1.1', '1.2',\n",
       "       '1.3', '1.4', '1.5', '1.6', '1.7', '1.8', '1.9', '2', '2.1', '2.2',\n",
       "       '2.3', '2.4', '2.5', '2.6', '2.7', '2.8', '2.9', '3', '3.1', '3.2',\n",
       "       '3.3', '3.4', '3.5', '3.6', '3.7', '3.8', '3.9', '4', '4.1', '4.2',\n",
       "       '4.3', '4.4', '4.5', '4.6', '4.7', '4.8', '4.9', '5', '5.1', '5.2',\n",
       "       '5.3', '5.4', '5.5', '5.6', '5.7', '5.8', '5.9', '6', '6.1', '6.2',\n",
       "       '6.3', '6.4', '6.5', '6.6', '6.7', '6.8', '6.9', '7', '7.1', '7.2',\n",
       "       '7.3', '7.4', '7.5', '7.6', '7.7', '7.8', '7.9', '8', '8.1', '8.2',\n",
       "       '8.3', '8.4', '8.5', '8.6', '8.7', '8.8', '8.9', '9', '9.1', '9.2',\n",
       "       '9.3', '9.4', '9.5', '9.6', '9.7', nan], dtype=object)"
      ]
     },
     "execution_count": 11,
     "metadata": {},
     "output_type": "execute_result"
    }
   ],
   "source": [
    "# 'tbd' is To Be Determined to be determined / decision to be made\n",
    "# At this stage, it corresponds to the absence of values, so it can be replaced with NaN\n",
    "games_data.loc[games_data['user_score'] == 'tbd', 'user_score'] = np.nan\n",
    "games_data['user_score'].sort_values().unique()"
   ]
  },
  {
   "cell_type": "code",
   "execution_count": 12,
   "id": "7e201250",
   "metadata": {
    "hidden": true
   },
   "outputs": [
    {
     "name": "stdout",
     "output_type": "stream",
     "text": [
      "<class 'pandas.core.frame.DataFrame'>\n",
      "RangeIndex: 16715 entries, 0 to 16714\n",
      "Data columns (total 11 columns):\n",
      " #   Column           Non-Null Count  Dtype  \n",
      "---  ------           --------------  -----  \n",
      " 0   name             16713 non-null  object \n",
      " 1   platform         16715 non-null  object \n",
      " 2   year_of_release  16715 non-null  int32  \n",
      " 3   genre            16713 non-null  object \n",
      " 4   na_sales         16715 non-null  float64\n",
      " 5   eu_sales         16715 non-null  float64\n",
      " 6   jp_sales         16715 non-null  float64\n",
      " 7   other_sales      16715 non-null  float64\n",
      " 8   critic_score     8137 non-null   float64\n",
      " 9   user_score       7590 non-null   float64\n",
      " 10  rating           9949 non-null   object \n",
      "dtypes: float64(6), int32(1), object(4)\n",
      "memory usage: 1.3+ MB\n"
     ]
    }
   ],
   "source": [
    "# Cast the selected columns to the desired type and check the result\n",
    "games_data['year_of_release'] = games_data['year_of_release'].astype(int)\n",
    "games_data['user_score'] = games_data['user_score'].astype(float)\n",
    "games_data.info()"
   ]
  },
  {
   "cell_type": "markdown",
   "id": "f810b839",
   "metadata": {
    "hidden": true
   },
   "source": [
    "### Pass processing"
   ]
  },
  {
   "cell_type": "code",
   "execution_count": 13,
   "id": "35a261f5",
   "metadata": {
    "hidden": true
   },
   "outputs": [
    {
     "data": {
      "text/html": [
       "<div>\n",
       "<style scoped>\n",
       "    .dataframe tbody tr th:only-of-type {\n",
       "        vertical-align: middle;\n",
       "    }\n",
       "\n",
       "    .dataframe tbody tr th {\n",
       "        vertical-align: top;\n",
       "    }\n",
       "\n",
       "    .dataframe thead th {\n",
       "        text-align: right;\n",
       "    }\n",
       "</style>\n",
       "<table border=\"1\" class=\"dataframe\">\n",
       "  <thead>\n",
       "    <tr style=\"text-align: right;\">\n",
       "      <th></th>\n",
       "      <th>name</th>\n",
       "      <th>platform</th>\n",
       "      <th>year_of_release</th>\n",
       "      <th>genre</th>\n",
       "      <th>na_sales</th>\n",
       "      <th>eu_sales</th>\n",
       "      <th>jp_sales</th>\n",
       "      <th>other_sales</th>\n",
       "      <th>critic_score</th>\n",
       "      <th>user_score</th>\n",
       "      <th>rating</th>\n",
       "    </tr>\n",
       "  </thead>\n",
       "  <tbody>\n",
       "    <tr>\n",
       "      <th>659</th>\n",
       "      <td>NaN</td>\n",
       "      <td>GEN</td>\n",
       "      <td>1993</td>\n",
       "      <td>NaN</td>\n",
       "      <td>1.78</td>\n",
       "      <td>0.53</td>\n",
       "      <td>0.00</td>\n",
       "      <td>0.08</td>\n",
       "      <td>NaN</td>\n",
       "      <td>NaN</td>\n",
       "      <td>NaN</td>\n",
       "    </tr>\n",
       "    <tr>\n",
       "      <th>14244</th>\n",
       "      <td>NaN</td>\n",
       "      <td>GEN</td>\n",
       "      <td>1993</td>\n",
       "      <td>NaN</td>\n",
       "      <td>0.00</td>\n",
       "      <td>0.00</td>\n",
       "      <td>0.03</td>\n",
       "      <td>0.00</td>\n",
       "      <td>NaN</td>\n",
       "      <td>NaN</td>\n",
       "      <td>NaN</td>\n",
       "    </tr>\n",
       "  </tbody>\n",
       "</table>\n",
       "</div>"
      ],
      "text/plain": [
       "      name platform  year_of_release genre  na_sales  eu_sales  jp_sales  \\\n",
       "659    NaN      GEN             1993   NaN      1.78      0.53      0.00   \n",
       "14244  NaN      GEN             1993   NaN      0.00      0.00      0.03   \n",
       "\n",
       "       other_sales  critic_score  user_score rating  \n",
       "659           0.08           NaN         NaN    NaN  \n",
       "14244         0.00           NaN         NaN    NaN  "
      ]
     },
     "execution_count": 13,
     "metadata": {},
     "output_type": "execute_result"
    }
   ],
   "source": [
    "# Check for gaps in the 'name' column\n",
    "games_data[games_data['name'].isna()]"
   ]
  },
  {
   "cell_type": "code",
   "execution_count": 14,
   "id": "d0033742",
   "metadata": {
    "hidden": true
   },
   "outputs": [],
   "source": [
    "# The resulting rows with missing names will not help us in the study, these data can be excluded\n",
    "games_data = games_data[~games_data.name.isnull()]"
   ]
  },
  {
   "cell_type": "code",
   "execution_count": 15,
   "id": "5609fbea",
   "metadata": {
    "hidden": true
   },
   "outputs": [
    {
     "data": {
      "text/plain": [
       "name                  0\n",
       "platform              0\n",
       "year_of_release       0\n",
       "genre                 0\n",
       "na_sales              0\n",
       "eu_sales              0\n",
       "jp_sales              0\n",
       "other_sales           0\n",
       "critic_score       8576\n",
       "user_score         9123\n",
       "rating             6764\n",
       "dtype: int64"
      ]
     },
     "execution_count": 15,
     "metadata": {},
     "output_type": "execute_result"
    }
   ],
   "source": [
    "# We also got rid of gaps in the 'genre' column\n",
    "games_data.isna().sum()"
   ]
  },
  {
   "cell_type": "markdown",
   "id": "49cedf05",
   "metadata": {
    "hidden": true
   },
   "source": [
    "Leave the gaps in the scores as they are. Since filling them in may affect the final result.\n",
    "The gaps in the year column were left as is at the stage of casting to the data type.\n",
    "\n",
    "Gaps in the data could appear due to technical reasons, the obsolescence of the game and the weakening of interest in it, the lack of sufficient feedback to obtain a final score."
   ]
  },
  {
   "cell_type": "markdown",
   "id": "1014a508",
   "metadata": {
    "hidden": true
   },
   "source": [
    "### Calculation of total sales"
   ]
  },
  {
   "cell_type": "code",
   "execution_count": 16,
   "id": "268f7136",
   "metadata": {
    "hidden": true,
    "scrolled": true
   },
   "outputs": [
    {
     "data": {
      "text/html": [
       "<div>\n",
       "<style scoped>\n",
       "    .dataframe tbody tr th:only-of-type {\n",
       "        vertical-align: middle;\n",
       "    }\n",
       "\n",
       "    .dataframe tbody tr th {\n",
       "        vertical-align: top;\n",
       "    }\n",
       "\n",
       "    .dataframe thead th {\n",
       "        text-align: right;\n",
       "    }\n",
       "</style>\n",
       "<table border=\"1\" class=\"dataframe\">\n",
       "  <thead>\n",
       "    <tr style=\"text-align: right;\">\n",
       "      <th></th>\n",
       "      <th>name</th>\n",
       "      <th>platform</th>\n",
       "      <th>year_of_release</th>\n",
       "      <th>genre</th>\n",
       "      <th>na_sales</th>\n",
       "      <th>eu_sales</th>\n",
       "      <th>jp_sales</th>\n",
       "      <th>other_sales</th>\n",
       "      <th>critic_score</th>\n",
       "      <th>user_score</th>\n",
       "      <th>rating</th>\n",
       "      <th>sum_sales</th>\n",
       "    </tr>\n",
       "  </thead>\n",
       "  <tbody>\n",
       "    <tr>\n",
       "      <th>0</th>\n",
       "      <td>Wii Sports</td>\n",
       "      <td>Wii</td>\n",
       "      <td>2006</td>\n",
       "      <td>Sports</td>\n",
       "      <td>41.36</td>\n",
       "      <td>28.96</td>\n",
       "      <td>3.77</td>\n",
       "      <td>8.45</td>\n",
       "      <td>76.0</td>\n",
       "      <td>8.0</td>\n",
       "      <td>E</td>\n",
       "      <td>82.54</td>\n",
       "    </tr>\n",
       "    <tr>\n",
       "      <th>1</th>\n",
       "      <td>Super Mario Bros.</td>\n",
       "      <td>NES</td>\n",
       "      <td>1985</td>\n",
       "      <td>Platform</td>\n",
       "      <td>29.08</td>\n",
       "      <td>3.58</td>\n",
       "      <td>6.81</td>\n",
       "      <td>0.77</td>\n",
       "      <td>NaN</td>\n",
       "      <td>NaN</td>\n",
       "      <td>NaN</td>\n",
       "      <td>40.24</td>\n",
       "    </tr>\n",
       "    <tr>\n",
       "      <th>2</th>\n",
       "      <td>Mario Kart Wii</td>\n",
       "      <td>Wii</td>\n",
       "      <td>2008</td>\n",
       "      <td>Racing</td>\n",
       "      <td>15.68</td>\n",
       "      <td>12.76</td>\n",
       "      <td>3.79</td>\n",
       "      <td>3.29</td>\n",
       "      <td>82.0</td>\n",
       "      <td>8.3</td>\n",
       "      <td>E</td>\n",
       "      <td>35.52</td>\n",
       "    </tr>\n",
       "    <tr>\n",
       "      <th>3</th>\n",
       "      <td>Wii Sports Resort</td>\n",
       "      <td>Wii</td>\n",
       "      <td>2009</td>\n",
       "      <td>Sports</td>\n",
       "      <td>15.61</td>\n",
       "      <td>10.93</td>\n",
       "      <td>3.28</td>\n",
       "      <td>2.95</td>\n",
       "      <td>80.0</td>\n",
       "      <td>8.0</td>\n",
       "      <td>E</td>\n",
       "      <td>32.77</td>\n",
       "    </tr>\n",
       "    <tr>\n",
       "      <th>4</th>\n",
       "      <td>Pokemon Red/Pokemon Blue</td>\n",
       "      <td>GB</td>\n",
       "      <td>1996</td>\n",
       "      <td>Role-Playing</td>\n",
       "      <td>11.27</td>\n",
       "      <td>8.89</td>\n",
       "      <td>10.22</td>\n",
       "      <td>1.00</td>\n",
       "      <td>NaN</td>\n",
       "      <td>NaN</td>\n",
       "      <td>NaN</td>\n",
       "      <td>31.38</td>\n",
       "    </tr>\n",
       "  </tbody>\n",
       "</table>\n",
       "</div>"
      ],
      "text/plain": [
       "                       name platform  year_of_release         genre  na_sales  \\\n",
       "0                Wii Sports      Wii             2006        Sports     41.36   \n",
       "1         Super Mario Bros.      NES             1985      Platform     29.08   \n",
       "2            Mario Kart Wii      Wii             2008        Racing     15.68   \n",
       "3         Wii Sports Resort      Wii             2009        Sports     15.61   \n",
       "4  Pokemon Red/Pokemon Blue       GB             1996  Role-Playing     11.27   \n",
       "\n",
       "   eu_sales  jp_sales  other_sales  critic_score  user_score rating  sum_sales  \n",
       "0     28.96      3.77         8.45          76.0         8.0      E      82.54  \n",
       "1      3.58      6.81         0.77           NaN         NaN    NaN      40.24  \n",
       "2     12.76      3.79         3.29          82.0         8.3      E      35.52  \n",
       "3     10.93      3.28         2.95          80.0         8.0      E      32.77  \n",
       "4      8.89     10.22         1.00           NaN         NaN    NaN      31.38  "
      ]
     },
     "execution_count": 16,
     "metadata": {},
     "output_type": "execute_result"
    }
   ],
   "source": [
    "# Function for calculating total sales\n",
    "def sales_sum(row):\n",
    "    \n",
    "    na = row['na_sales']\n",
    "    eu = row['eu_sales']\n",
    "    jp = row['jp_sales']\n",
    "    other = row['other_sales']\n",
    "    sum = na + eu + jp + other\n",
    "    return sum\n",
    "    \n",
    "games_data['sum_sales'] = games_data.apply(sales_sum, axis=1)\n",
    "games_data.head()"
   ]
  },
  {
   "cell_type": "markdown",
   "id": "52caaa04",
   "metadata": {},
   "source": [
    "## Exploratory data analysis"
   ]
  },
  {
   "cell_type": "markdown",
   "id": "cfa69b35",
   "metadata": {
    "heading_collapsed": true
   },
   "source": [
    "### Number of games released in different years"
   ]
  },
  {
   "cell_type": "code",
   "execution_count": 17,
   "id": "bf385988",
   "metadata": {
    "hidden": true
   },
   "outputs": [
    {
     "data": {
      "image/png": "[encoded data removed]",
      "text/plain": [
       "<Figure size 432x288 with 1 Axes>"
      ]
     },
     "metadata": {
      "needs_background": "light"
     },
     "output_type": "display_data"
    }
   ],
   "source": [
    "# Let's see how many games were released in different years\n",
    "games_data['year_of_release'].hist(bins=37, range=(1980, 2016));"
   ]
  },
  {
   "cell_type": "markdown",
   "id": "8f0c3ff7",
   "metadata": {
    "hidden": true
   },
   "source": [
    "As can be seen from the histogram, the main release of games falls from 2002 to 2015."
   ]
  },
  {
   "cell_type": "markdown",
   "id": "e0047b17",
   "metadata": {
    "heading_collapsed": true
   },
   "source": [
    "### Sales by platform"
   ]
  },
  {
   "cell_type": "code",
   "execution_count": 18,
   "id": "bb3cace4",
   "metadata": {
    "hidden": true,
    "scrolled": true
   },
   "outputs": [
    {
     "data": {
      "text/plain": [
       "platform\n",
       "PS2     1255.77\n",
       "X360     971.42\n",
       "PS3      939.65\n",
       "Wii      907.51\n",
       "DS       806.12\n",
       "PS       730.86\n",
       "GBA      317.85\n",
       "PS4      314.14\n",
       "PSP      294.05\n",
       "PC       259.52\n",
       "3DS      259.00\n",
       "XB       257.74\n",
       "GB       255.46\n",
       "NES      251.05\n",
       "N64      218.68\n",
       "SNES     200.04\n",
       "GC       198.93\n",
       "XOne     159.32\n",
       "2600      96.98\n",
       "WiiU      82.19\n",
       "PSV       54.07\n",
       "SAT       33.59\n",
       "GEN       28.35\n",
       "DC        15.95\n",
       "SCD        1.86\n",
       "NG         1.44\n",
       "WS         1.42\n",
       "TG16       0.16\n",
       "3DO        0.10\n",
       "GG         0.04\n",
       "PCFX       0.03\n",
       "Name: sum_sales, dtype: float64"
      ]
     },
     "execution_count": 18,
     "metadata": {},
     "output_type": "execute_result"
    }
   ],
   "source": [
    "# Determine the platforms with the highest sales\n",
    "platforms = games_data.groupby('platform')['sum_sales'].sum().sort_values(ascending=False)\n",
    "platforms"
   ]
  },
  {
   "cell_type": "code",
   "execution_count": 19,
   "id": "82ee15a5",
   "metadata": {
    "hidden": true
   },
   "outputs": [
    {
     "data": {
      "image/png": "[encoded data removed]",
      "text/plain": [
       "<Figure size 432x288 with 1 Axes>"
      ]
     },
     "metadata": {
      "needs_background": "light"
     },
     "output_type": "display_data"
    }
   ],
   "source": [
    "platforms.hist(bins=37);"
   ]
  },
  {
   "cell_type": "code",
   "execution_count": 20,
   "id": "b0918bb0",
   "metadata": {
    "hidden": true
   },
   "outputs": [
    {
     "data": {
      "text/plain": [
       "platform\n",
       "PS2     1255.77\n",
       "X360     971.42\n",
       "PS3      939.65\n",
       "Wii      907.51\n",
       "DS       806.12\n",
       "PS       730.86\n",
       "Name: sum_sales, dtype: float64"
      ]
     },
     "execution_count": 20,
     "metadata": {},
     "output_type": "execute_result"
    }
   ],
   "source": [
    "top_platforms = games_data.groupby('platform')['sum_sales'].sum().sort_values(ascending=False).head(6)\n",
    "top_platforms"
   ]
  },
  {
   "cell_type": "markdown",
   "id": "0db809cd",
   "metadata": {
    "hidden": true
   },
   "source": [
    "As you can see, the most sold are `PS2` `X360` `Wii` `PS3` `DS` `PC`. Thus, we will build the distribution by years for these platforms."
   ]
  },
  {
   "cell_type": "markdown",
   "id": "259c8435",
   "metadata": {
    "heading_collapsed": true
   },
   "source": [
    "### Sales leaders"
   ]
  },
  {
   "cell_type": "markdown",
   "id": "c1e2febe",
   "metadata": {
    "hidden": true
   },
   "source": [
    "Previously, the top 6 by sales were determined, let's build histograms by year to determine the characteristic period for platforms"
   ]
  },
  {
   "cell_type": "code",
   "execution_count": 21,
   "id": "cb14f7c1",
   "metadata": {
    "hidden": true
   },
   "outputs": [
    {
     "data": {
      "image/png": "[encoded data removed]",
      "text/plain": [
       "<Figure size 432x288 with 1 Axes>"
      ]
     },
     "metadata": {
      "needs_background": "light"
     },
     "output_type": "display_data"
    }
   ],
   "source": [
    "# Build distribution by year for PS2\n",
    "games_data[games_data['platform'] == 'PS2']['year_of_release'].hist(bins=17, range=(1999, 2016));"
   ]
  },
  {
   "cell_type": "code",
   "execution_count": 22,
   "id": "9a922263",
   "metadata": {
    "hidden": true
   },
   "outputs": [
    {
     "data": {
      "image/png": "[encoded data removed]",
      "text/plain": [
       "<Figure size 432x288 with 1 Axes>"
      ]
     },
     "metadata": {
      "needs_background": "light"
     },
     "output_type": "display_data"
    }
   ],
   "source": [
    "# Build the distribution by years for X360\n",
    "games_data[games_data['platform'] == 'X360']['year_of_release'].hist(bins=17, range=(1999, 2016));"
   ]
  },
  {
   "cell_type": "code",
   "execution_count": 23,
   "id": "0f349946",
   "metadata": {
    "hidden": true
   },
   "outputs": [
    {
     "data": {
      "image/png": "[encoded data removed]",
      "text/plain": [
       "<Figure size 432x288 with 1 Axes>"
      ]
     },
     "metadata": {
      "needs_background": "light"
     },
     "output_type": "display_data"
    }
   ],
   "source": [
    "# Build distribution by years for Wii\n",
    "games_data[games_data['platform'] == 'Wii']['year_of_release'].hist(bins=17, range=(1999, 2016));"
   ]
  },
  {
   "cell_type": "code",
   "execution_count": 24,
   "id": "655cc0fc",
   "metadata": {
    "hidden": true
   },
   "outputs": [
    {
     "data": {
      "image/png": "[encoded data removed]",
      "text/plain": [
       "<Figure size 432x288 with 1 Axes>"
      ]
     },
     "metadata": {
      "needs_background": "light"
     },
     "output_type": "display_data"
    }
   ],
   "source": [
    "# Build distribution by year for PS3\n",
    "games_data[games_data['platform'] == 'PS3']['year_of_release'].hist(bins=17, range=(1999, 2016));"
   ]
  },
  {
   "cell_type": "code",
   "execution_count": 25,
   "id": "2f6b48f5",
   "metadata": {
    "hidden": true,
    "scrolled": true
   },
   "outputs": [
    {
     "data": {
      "image/png": "[encoded data removed]",
      "text/plain": [
       "<Figure size 432x288 with 1 Axes>"
      ]
     },
     "metadata": {
      "needs_background": "light"
     },
     "output_type": "display_data"
    }
   ],
   "source": [
    "# Build the distribution by years for DS\n",
    "games_data[games_data['platform'] == 'DS']['year_of_release'].hist(bins=17, range=(1999, 2016));"
   ]
  },
  {
   "cell_type": "code",
   "execution_count": 26,
   "id": "883f9356",
   "metadata": {
    "hidden": true
   },
   "outputs": [
    {
     "data": {
      "image/png": "[encoded data removed]",
      "text/plain": [
       "<Figure size 432x288 with 1 Axes>"
      ]
     },
     "metadata": {
      "needs_background": "light"
     },
     "output_type": "display_data"
    }
   ],
   "source": [
    "# Build the distribution by year for PC\n",
    "games_data[games_data['platform'] == 'PC']['year_of_release'].hist(bins=17, range=(1999, 2016));"
   ]
  },
  {
   "cell_type": "markdown",
   "id": "4cf09ad4",
   "metadata": {
    "hidden": true
   },
   "source": [
    "As you can see, the characteristic period for platforms is approximately 5 to 7 years.\n",
    "Separately, it is worth noting `PC` for which it is impossible to select the current period, since according to the graphs, the number of games is almost constantly growing.\n",
    "We choose the current period for the study from 2015 to 2016.\n",
    "\n",
    "Let's build for the remaining platforms that have data from 2015 to 2016."
   ]
  },
  {
   "cell_type": "markdown",
   "id": "1e59bc0a",
   "metadata": {
    "heading_collapsed": true
   },
   "source": [
    "### Growth / fall of platforms for the current period"
   ]
  },
  {
   "cell_type": "markdown",
   "id": "775316e6",
   "metadata": {
    "hidden": true
   },
   "source": [
    "Previously, the actual period for platforms was determined - 3 years. Let's build for platforms that meet this condition."
   ]
  },
  {
   "cell_type": "code",
   "execution_count": 27,
   "id": "6faa5766",
   "metadata": {
    "hidden": true
   },
   "outputs": [],
   "source": [
    "# Create a dataframe from the original, for the selected time period\n",
    "games_data_relevant = games_data[games_data['year_of_release'] >= 2014]"
   ]
  },
  {
   "cell_type": "markdown",
   "id": "93dc4a93",
   "metadata": {
    "hidden": true
   },
   "source": [
    "The most profitable platforms have already been discussed above. Of these, `X360`, `PC` and `PS3` more or less bring income, the rest of the platforms somehow ceased to bring profit.\n",
    "\n",
    "Now let's look at the remaining platforms to determine their rise / fall."
   ]
  },
  {
   "cell_type": "code",
   "execution_count": 28,
   "id": "bd9882e2",
   "metadata": {
    "hidden": true
   },
   "outputs": [
    {
     "data": {
      "text/plain": [
       "platform\n",
       "PS4     288.15\n",
       "XOne    140.36\n",
       "3DS      86.68\n",
       "PS3      68.18\n",
       "X360     48.22\n",
       "WiiU     42.98\n",
       "PC       27.05\n",
       "PSV      22.40\n",
       "Wii       5.07\n",
       "PSP       0.36\n",
       "Name: sum_sales, dtype: float64"
      ]
     },
     "execution_count": 28,
     "metadata": {},
     "output_type": "execute_result"
    }
   ],
   "source": [
    "# Evaluate the top sales for the current period\n",
    "platforms_relevant = games_data_relevant.groupby('platform')['sum_sales'].sum().sort_values(ascending=False)\n",
    "platforms_relevant"
   ]
  },
  {
   "cell_type": "markdown",
   "id": "3202b5b8",
   "metadata": {
    "hidden": true
   },
   "source": [
    "As you can see, the picture has changed somewhat compared to the original dataframe.\n",
    "For example games on `PC` became noticeably less.\n",
    "\n",
    "Next, we normalize the data by the number of games that dropped out of the relevant period of time. This will help us weed out platforms that are no longer relevant."
   ]
  },
  {
   "cell_type": "code",
   "execution_count": 29,
   "id": "7b3ce4c3",
   "metadata": {
    "hidden": true,
    "scrolled": true
   },
   "outputs": [
    {
     "data": {
      "text/plain": [
       "platform\n",
       "PS4     0.082734\n",
       "XOne    0.119006\n",
       "WiiU    0.477065\n",
       "PSV     0.585722\n",
       "3DS     0.665328\n",
       "PC      0.895769\n",
       "PS3     0.927441\n",
       "X360    0.950361\n",
       "Wii     0.994413\n",
       "PSP     0.998776\n",
       "Name: sum_sales, dtype: float64"
      ]
     },
     "execution_count": 29,
     "metadata": {},
     "output_type": "execute_result"
    }
   ],
   "source": [
    "# Define a normalization, sort it in descending order, and output the resulting values.\n",
    "normalization = (platforms - platforms_relevant) / platforms\n",
    "normalization = normalization.dropna().sort_values(ascending=True)\n",
    "normalization"
   ]
  },
  {
   "cell_type": "markdown",
   "id": "1be7516b",
   "metadata": {
    "hidden": true
   },
   "source": [
    "Thus, the `Wii` `DS` `PSP` platforms are in decline. They will not be presented in further diagrams."
   ]
  },
  {
   "cell_type": "code",
   "execution_count": 30,
   "id": "6f642891",
   "metadata": {
    "hidden": true
   },
   "outputs": [
    {
     "data": {
      "image/png": "[encoded data removed]",
      "text/plain": [
       "<Figure size 432x288 with 1 Axes>"
      ]
     },
     "metadata": {
      "needs_background": "light"
     },
     "output_type": "display_data"
    }
   ],
   "source": [
    "games_data_relevant[games_data_relevant['platform'] == 'XOne']['year_of_release'].hist(bins=3, range=(2014, 2016));"
   ]
  },
  {
   "cell_type": "code",
   "execution_count": 31,
   "id": "93c63f3a",
   "metadata": {
    "hidden": true
   },
   "outputs": [
    {
     "data": {
      "image/png": "[encoded data removed]",
      "text/plain": [
       "<Figure size 432x288 with 1 Axes>"
      ]
     },
     "metadata": {
      "needs_background": "light"
     },
     "output_type": "display_data"
    }
   ],
   "source": [
    "games_data_relevant[games_data_relevant['platform'] == 'PS4']['year_of_release'].hist(bins=3, range=(2014, 2016));"
   ]
  },
  {
   "cell_type": "code",
   "execution_count": 32,
   "id": "cb09fb5a",
   "metadata": {
    "hidden": true
   },
   "outputs": [
    {
     "data": {
      "image/png": "[encoded data removed]",
      "text/plain": [
       "<Figure size 432x288 with 1 Axes>"
      ]
     },
     "metadata": {
      "needs_background": "light"
     },
     "output_type": "display_data"
    }
   ],
   "source": [
    "games_data_relevant[games_data_relevant['platform'] == 'WiiU']['year_of_release'].hist(bins=3, range=(2014, 2016));"
   ]
  },
  {
   "cell_type": "code",
   "execution_count": 33,
   "id": "7c698133",
   "metadata": {
    "hidden": true
   },
   "outputs": [
    {
     "data": {
      "image/png": "[encoded data removed]",
      "text/plain": [
       "<Figure size 432x288 with 1 Axes>"
      ]
     },
     "metadata": {
      "needs_background": "light"
     },
     "output_type": "display_data"
    }
   ],
   "source": [
    "games_data_relevant[games_data_relevant['platform'] == '3DS']['year_of_release'].hist(bins=3, range=(2014, 2016));"
   ]
  },
  {
   "cell_type": "code",
   "execution_count": 34,
   "id": "fd9a3009",
   "metadata": {
    "hidden": true
   },
   "outputs": [
    {
     "data": {
      "image/png": "[encoded data removed]",
      "text/plain": [
       "<Figure size 432x288 with 1 Axes>"
      ]
     },
     "metadata": {
      "needs_background": "light"
     },
     "output_type": "display_data"
    }
   ],
   "source": [
    "games_data_relevant[games_data_relevant['platform'] == 'PSV']['year_of_release'].hist(bins=3, range=(2014, 2016));"
   ]
  },
  {
   "cell_type": "code",
   "execution_count": 35,
   "id": "e1f9724e",
   "metadata": {
    "hidden": true
   },
   "outputs": [
    {
     "data": {
      "image/png": "[encoded data removed]",
      "text/plain": [
       "<Figure size 432x288 with 1 Axes>"
      ]
     },
     "metadata": {
      "needs_background": "light"
     },
     "output_type": "display_data"
    }
   ],
   "source": [
    "games_data_relevant[games_data_relevant['platform'] == 'PS3']['year_of_release'].hist(bins=3, range=(2014, 2016));"
   ]
  },
  {
   "cell_type": "code",
   "execution_count": 36,
   "id": "6f097878",
   "metadata": {
    "hidden": true
   },
   "outputs": [
    {
     "data": {
      "image/png": "[encoded data removed]",
      "text/plain": [
       "<Figure size 432x288 with 1 Axes>"
      ]
     },
     "metadata": {
      "needs_background": "light"
     },
     "output_type": "display_data"
    }
   ],
   "source": [
    "games_data_relevant[games_data_relevant['platform'] == 'X360']['year_of_release'].hist(bins=3, range=(2014, 2016));"
   ]
  },
  {
   "cell_type": "code",
   "execution_count": 37,
   "id": "db205255",
   "metadata": {
    "hidden": true
   },
   "outputs": [
    {
     "data": {
      "image/png": "[encoded data removed]",
      "text/plain": [
       "<Figure size 432x288 with 1 Axes>"
      ]
     },
     "metadata": {
      "needs_background": "light"
     },
     "output_type": "display_data"
    }
   ],
   "source": [
    "games_data_relevant[games_data_relevant['platform'] == 'PC']['year_of_release'].hist(bins=3, range=(2014, 2016));"
   ]
  },
  {
   "cell_type": "markdown",
   "id": "a7ce4cc0",
   "metadata": {
    "hidden": true
   },
   "source": [
    "So, as you can see from the graphs, the `XOne` and `PS4` platforms are growing. Platforms `PC` and `PSV` show stable results. All other platforms are in decline.\n",
    "\n",
    "Thus, the most profitable platforms are likely to be `XOne` and `PS4`."
   ]
  },
  {
   "cell_type": "markdown",
   "id": "64cb05f9",
   "metadata": {
    "heading_collapsed": true
   },
   "source": [
    "### Global sales charts by platform"
   ]
  },
  {
   "cell_type": "markdown",
   "id": "3c8a7300",
   "metadata": {
    "hidden": true
   },
   "source": [
    "Let's build range diagrams for the platforms we are interested in."
   ]
  },
  {
   "cell_type": "code",
   "execution_count": 38,
   "id": "b69dc5c8",
   "metadata": {
    "hidden": true
   },
   "outputs": [
    {
     "data": {
      "text/plain": [
       "(-0.721, 15.360999999999999)"
      ]
     },
     "execution_count": 38,
     "metadata": {},
     "output_type": "execute_result"
    },
    {
     "data": {
      "image/png": "[encoded data removed]",
      "text/plain": [
       "<Figure size 432x288 with 1 Axes>"
      ]
     },
     "metadata": {
      "needs_background": "light"
     },
     "output_type": "display_data"
    }
   ],
   "source": [
    "# For PS4\n",
    "PS4 = games_data_relevant[games_data_relevant['platform'] == 'PS4']\n",
    "PS4.boxplot(column=\"sum_sales\");\n",
    "plt.ylim()"
   ]
  },
  {
   "cell_type": "code",
   "execution_count": 39,
   "id": "889086c5",
   "metadata": {
    "hidden": true
   },
   "outputs": [
    {
     "data": {
      "text/plain": [
       "(-0.359, 7.758999999999999)"
      ]
     },
     "execution_count": 39,
     "metadata": {},
     "output_type": "execute_result"
    },
    {
     "data": {
      "image/png": "[encoded data removed]",
      "text/plain": [
       "<Figure size 432x288 with 1 Axes>"
      ]
     },
     "metadata": {
      "needs_background": "light"
     },
     "output_type": "display_data"
    }
   ],
   "source": [
    "# For XOne\n",
    "XOne = games_data_relevant[games_data_relevant['platform'] == 'XOne']\n",
    "XOne.boxplot(column=\"sum_sales\");\n",
    "plt.ylim()"
   ]
  },
  {
   "cell_type": "code",
   "execution_count": 40,
   "id": "18209198",
   "metadata": {
    "hidden": true
   },
   "outputs": [
    {
     "data": {
      "text/plain": [
       "(-0.34400000000000003, 7.444)"
      ]
     },
     "execution_count": 40,
     "metadata": {},
     "output_type": "execute_result"
    },
    {
     "data": {
      "image/png": "[encoded data removed]",
      "text/plain": [
       "<Figure size 432x288 with 1 Axes>"
      ]
     },
     "metadata": {
      "needs_background": "light"
     },
     "output_type": "display_data"
    }
   ],
   "source": [
    "# For WiiU\n",
    "WiiU = games_data_relevant[games_data_relevant['platform'] == 'WiiU']\n",
    "WiiU.boxplot(column=\"sum_sales\");\n",
    "plt.ylim()"
   ]
  },
  {
   "cell_type": "code",
   "execution_count": 41,
   "id": "716fefd4",
   "metadata": {
    "hidden": true
   },
   "outputs": [
    {
     "data": {
      "text/plain": [
       "(-0.08750000000000002, 2.0575)"
      ]
     },
     "execution_count": 41,
     "metadata": {},
     "output_type": "execute_result"
    },
    {
     "data": {
      "image/png": "[encoded data removed]",
      "text/plain": [
       "<Figure size 432x288 with 1 Axes>"
      ]
     },
     "metadata": {
      "needs_background": "light"
     },
     "output_type": "display_data"
    }
   ],
   "source": [
    "# For PSV\n",
    "PSV = games_data_relevant[games_data_relevant['platform'] == 'PSV']\n",
    "PSV.boxplot(column=\"sum_sales\");\n",
    "plt.ylim()"
   ]
  },
  {
   "cell_type": "code",
   "execution_count": 42,
   "id": "9c357665",
   "metadata": {
    "hidden": true
   },
   "outputs": [
    {
     "data": {
      "text/plain": [
       "(-0.5735, 12.2635)"
      ]
     },
     "execution_count": 42,
     "metadata": {},
     "output_type": "execute_result"
    },
    {
     "data": {
      "image/png": "[encoded data removed]",
      "text/plain": [
       "<Figure size 432x288 with 1 Axes>"
      ]
     },
     "metadata": {
      "needs_background": "light"
     },
     "output_type": "display_data"
    }
   ],
   "source": [
    "# For 3DS\n",
    "DS3 = games_data_relevant[games_data_relevant['platform'] == '3DS']\n",
    "DS3.boxplot(column=\"sum_sales\");\n",
    "plt.ylim()"
   ]
  },
  {
   "cell_type": "code",
   "execution_count": 43,
   "id": "7d5ef200",
   "metadata": {
    "hidden": true
   },
   "outputs": [
    {
     "data": {
      "text/plain": [
       "(-0.25300000000000006, 5.533)"
      ]
     },
     "execution_count": 43,
     "metadata": {},
     "output_type": "execute_result"
    },
    {
     "data": {
      "image/png": "[encoded data removed]",
      "text/plain": [
       "<Figure size 432x288 with 1 Axes>"
      ]
     },
     "metadata": {
      "needs_background": "light"
     },
     "output_type": "display_data"
    }
   ],
   "source": [
    "# For PS3\n",
    "PS3 = games_data_relevant[games_data_relevant['platform'] == 'PS3']\n",
    "PS3.boxplot(column=\"sum_sales\");\n",
    "plt.ylim()"
   ]
  },
  {
   "cell_type": "code",
   "execution_count": 44,
   "id": "a52ef36e",
   "metadata": {
    "hidden": true
   },
   "outputs": [
    {
     "data": {
      "text/plain": [
       "(-0.20350000000000001, 4.4935)"
      ]
     },
     "execution_count": 44,
     "metadata": {},
     "output_type": "execute_result"
    },
    {
     "data": {
      "image/png": "[encoded data removed]",
      "text/plain": [
       "<Figure size 432x288 with 1 Axes>"
      ]
     },
     "metadata": {
      "needs_background": "light"
     },
     "output_type": "display_data"
    }
   ],
   "source": [
    "# For X360\n",
    "X360 = games_data_relevant[games_data_relevant['platform'] == 'X360']\n",
    "X360.boxplot(column=\"sum_sales\");\n",
    "plt.ylim()"
   ]
  },
  {
   "cell_type": "code",
   "execution_count": 45,
   "id": "f62c7d78",
   "metadata": {
    "hidden": true
   },
   "outputs": [
    {
     "data": {
      "text/plain": [
       "(-0.14200000000000002, 3.2020000000000004)"
      ]
     },
     "execution_count": 45,
     "metadata": {},
     "output_type": "execute_result"
    },
    {
     "data": {
      "image/png": "[encoded data removed]",
      "text/plain": [
       "<Figure size 432x288 with 1 Axes>"
      ]
     },
     "metadata": {
      "needs_background": "light"
     },
     "output_type": "display_data"
    }
   ],
   "source": [
    "# For PC\n",
    "PC = games_data_relevant[games_data_relevant['platform'] == 'PC']\n",
    "PC.boxplot(column=\"sum_sales\");\n",
    "plt.ylim()"
   ]
  },
  {
   "cell_type": "markdown",
   "id": "ff18431f",
   "metadata": {
    "hidden": true
   },
   "source": [
    "As you can see, the PS3 and PS4 platforms set sales records, the X platforms have a large median, but at the same time do not have such record total sales. Most of the games sold are on the X... and PS... platforms.\n",
    "Portable set-top boxes are less in demand than stationary ones.\n",
    "\n",
    "The most popular platform is PS4."
   ]
  },
  {
   "cell_type": "markdown",
   "id": "6040a386",
   "metadata": {
    "heading_collapsed": true
   },
   "source": [
    "### Impact of Reviews on Sales"
   ]
  },
  {
   "cell_type": "markdown",
   "id": "665b5d66",
   "metadata": {
    "hidden": true
   },
   "source": [
    "Let's take the PS4 platform for evaluation. We construct scatterplots and calculate the Pearson coefficient."
   ]
  },
  {
   "cell_type": "code",
   "execution_count": 46,
   "id": "4ed5412d",
   "metadata": {
    "hidden": true,
    "scrolled": true
   },
   "outputs": [
    {
     "name": "stdout",
     "output_type": "stream",
     "text": [
      "Pearsons correlation coefficient (critics): 0.402661410681041\n",
      "Pearson correlation coefficient (users): -0.040131589472697286\n"
     ]
    },
    {
     "data": {
      "image/png": "[encoded data removed]",
      "text/plain": [
       "<Figure size 432x288 with 1 Axes>"
      ]
     },
     "metadata": {
      "needs_background": "light"
     },
     "output_type": "display_data"
    },
    {
     "data": {
      "image/png": "[encoded data removed]",
      "text/plain": [
       "<Figure size 576x432 with 2 Axes>"
      ]
     },
     "metadata": {
      "needs_background": "light"
     },
     "output_type": "display_data"
    },
    {
     "data": {
      "image/png": "[encoded data removed]",
      "text/plain": [
       "<Figure size 432x288 with 1 Axes>"
      ]
     },
     "metadata": {
      "needs_background": "light"
     },
     "output_type": "display_data"
    },
    {
     "data": {
      "image/png": "[encoded data removed]",
      "text/plain": [
       "<Figure size 576x432 with 2 Axes>"
      ]
     },
     "metadata": {
      "needs_background": "light"
     },
     "output_type": "display_data"
    }
   ],
   "source": [
    "PS4.plot(x='critic_score', y='sum_sales', kind='scatter', alpha=0.5)\n",
    "PS4.plot(x='critic_score', y='sum_sales', kind='hexbin', gridsize=20, figsize=(8, 6), sharex=False, grid=True) \n",
    "print('Pearsons correlation coefficient (critics):', PS4['sum_sales'].corr(PS4['critic_score']))\n",
    "\n",
    "PS4.plot(x='user_score', y='sum_sales', kind='scatter', alpha=0.5)\n",
    "PS4.plot(x='user_score', y='sum_sales', kind='hexbin', gridsize=20, figsize=(8, 6), sharex=False, grid=True) \n",
    "print('Pearson correlation coefficient (users):', PS4['sum_sales'].corr(PS4['user_score']))"
   ]
  },
  {
   "cell_type": "markdown",
   "id": "0db16935",
   "metadata": {
    "hidden": true
   },
   "source": [
    "According to the evaluation results, there is a weak direct relationship between the number of sales and the rating of critics.\n",
    "There is no dependence on user ratings."
   ]
  },
  {
   "cell_type": "markdown",
   "id": "e65cf64e",
   "metadata": {
    "hidden": true
   },
   "source": [
    "Do the same for XOne"
   ]
  },
  {
   "cell_type": "code",
   "execution_count": 47,
   "id": "3a15ceb5",
   "metadata": {
    "hidden": true,
    "scrolled": true
   },
   "outputs": [
    {
     "name": "stdout",
     "output_type": "stream",
     "text": [
      "Pearsons correlation coefficient (critics): 0.428676943703332\n",
      "Pearson correlation coefficient (users): -0.07038392806475818\n"
     ]
    },
    {
     "data": {
      "image/png": "[encoded data removed]",
      "text/plain": [
       "<Figure size 432x288 with 1 Axes>"
      ]
     },
     "metadata": {
      "needs_background": "light"
     },
     "output_type": "display_data"
    },
    {
     "data": {
      "image/png": "[encoded data removed]",
      "text/plain": [
       "<Figure size 576x432 with 2 Axes>"
      ]
     },
     "metadata": {
      "needs_background": "light"
     },
     "output_type": "display_data"
    },
    {
     "data": {
      "image/png": "[encoded data removed]",
      "text/plain": [
       "<Figure size 432x288 with 1 Axes>"
      ]
     },
     "metadata": {
      "needs_background": "light"
     },
     "output_type": "display_data"
    },
    {
     "data": {
      "image/png": "[encoded data removed]",
      "text/plain": [
       "<Figure size 576x432 with 2 Axes>"
      ]
     },
     "metadata": {
      "needs_background": "light"
     },
     "output_type": "display_data"
    }
   ],
   "source": [
    "XOne.plot(x='critic_score', y='sum_sales', kind='scatter', alpha=0.5)\n",
    "XOne.plot(x='critic_score', y='sum_sales', kind='hexbin', gridsize=20, figsize=(8, 6), sharex=False, grid=True) \n",
    "print('Pearsons correlation coefficient (critics):', XOne['sum_sales'].corr(XOne['critic_score']))\n",
    "\n",
    "XOne.plot(x='user_score', y='sum_sales', kind='scatter', alpha=0.5)\n",
    "XOne.plot(x='user_score', y='sum_sales', kind='hexbin', gridsize=20, figsize=(8, 6), sharex=False, grid=True) \n",
    "print('Pearson correlation coefficient (users):', XOne['sum_sales'].corr(XOne['user_score']))"
   ]
  },
  {
   "cell_type": "markdown",
   "id": "7f2f99f8",
   "metadata": {
    "hidden": true
   },
   "source": [
    "Для PC"
   ]
  },
  {
   "cell_type": "code",
   "execution_count": 48,
   "id": "b1a583b2",
   "metadata": {
    "hidden": true,
    "scrolled": true
   },
   "outputs": [
    {
     "name": "stdout",
     "output_type": "stream",
     "text": [
      "Pearsons correlation coefficient (critics): 0.17463413769350025\n",
      "Pearson correlation coefficient (users): -0.07159665703472454\n"
     ]
    },
    {
     "data": {
      "image/png": "[encoded data removed]",
      "text/plain": [
       "<Figure size 432x288 with 1 Axes>"
      ]
     },
     "metadata": {
      "needs_background": "light"
     },
     "output_type": "display_data"
    },
    {
     "data": {
      "image/png": "[encoded data removed]",
      "text/plain": [
       "<Figure size 576x432 with 2 Axes>"
      ]
     },
     "metadata": {
      "needs_background": "light"
     },
     "output_type": "display_data"
    },
    {
     "data": {
      "image/png": "[encoded data removed]",
      "text/plain": [
       "<Figure size 432x288 with 1 Axes>"
      ]
     },
     "metadata": {
      "needs_background": "light"
     },
     "output_type": "display_data"
    },
    {
     "data": {
      "image/png": "[encoded data removed]",
      "text/plain": [
       "<Figure size 576x432 with 2 Axes>"
      ]
     },
     "metadata": {
      "needs_background": "light"
     },
     "output_type": "display_data"
    }
   ],
   "source": [
    "PC.plot(x='critic_score', y='sum_sales', kind='scatter', alpha=0.5)\n",
    "PC.plot(x='critic_score', y='sum_sales', kind='hexbin', gridsize=20, figsize=(8, 6), sharex=False, grid=True) \n",
    "print('Pearsons correlation coefficient (critics):', PC['sum_sales'].corr(PC['critic_score']))\n",
    "\n",
    "PC.plot(x='user_score', y='sum_sales', kind='scatter', alpha=0.5)\n",
    "PC.plot(x='user_score', y='sum_sales', kind='hexbin', gridsize=20, figsize=(8, 6), sharex=False, grid=True) \n",
    "print('Pearson correlation coefficient (users):', PC['sum_sales'].corr(PC['user_score']))"
   ]
  },
  {
   "cell_type": "markdown",
   "id": "65f422d6",
   "metadata": {
    "hidden": true
   },
   "source": [
    "Для PS3"
   ]
  },
  {
   "cell_type": "code",
   "execution_count": 49,
   "id": "10e70c65",
   "metadata": {
    "hidden": true,
    "scrolled": true
   },
   "outputs": [
    {
     "name": "stdout",
     "output_type": "stream",
     "text": [
      "Pearsons correlation coefficient (critics): 0.44657460493190715\n",
      "Pearson correlation coefficient (users): -0.16676141347662105\n"
     ]
    },
    {
     "data": {
      "image/png": "[encoded data removed]",
      "text/plain": [
       "<Figure size 432x288 with 1 Axes>"
      ]
     },
     "metadata": {
      "needs_background": "light"
     },
     "output_type": "display_data"
    },
    {
     "data": {
      "image/png": "[encoded data removed]",
      "text/plain": [
       "<Figure size 576x432 with 2 Axes>"
      ]
     },
     "metadata": {
      "needs_background": "light"
     },
     "output_type": "display_data"
    },
    {
     "data": {
      "image/png": "[encoded data removed]",
      "text/plain": [
       "<Figure size 432x288 with 1 Axes>"
      ]
     },
     "metadata": {
      "needs_background": "light"
     },
     "output_type": "display_data"
    },
    {
     "data": {
      "image/png": "[encoded data removed]",
      "text/plain": [
       "<Figure size 576x432 with 2 Axes>"
      ]
     },
     "metadata": {
      "needs_background": "light"
     },
     "output_type": "display_data"
    }
   ],
   "source": [
    "PS3.plot(x='critic_score', y='sum_sales', kind='scatter', alpha=0.5)\n",
    "PS3.plot(x='critic_score', y='sum_sales', kind='hexbin', gridsize=20, figsize=(8, 6), sharex=False, grid=True) \n",
    "print('Pearsons correlation coefficient (critics):', PS3['sum_sales'].corr(PS3['critic_score']))\n",
    "\n",
    "PS3.plot(x='user_score', y='sum_sales', kind='scatter', alpha=0.5)\n",
    "PS3.plot(x='user_score', y='sum_sales', kind='hexbin', gridsize=20, figsize=(8, 6), sharex=False, grid=True) \n",
    "print('Pearson correlation coefficient (users):', PS3['sum_sales'].corr(PS3['user_score'])) "
   ]
  },
  {
   "cell_type": "markdown",
   "id": "48b25824",
   "metadata": {
    "hidden": true
   },
   "source": [
    "Для X360"
   ]
  },
  {
   "cell_type": "code",
   "execution_count": 50,
   "id": "2caf51db",
   "metadata": {
    "hidden": true,
    "scrolled": true
   },
   "outputs": [
    {
     "name": "stdout",
     "output_type": "stream",
     "text": [
      "Pearsons correlation coefficient (critics): 0.5257228356581521\n",
      "Pearson correlation coefficient (users): -0.13844457094566506\n"
     ]
    },
    {
     "data": {
      "image/png": "[encoded data removed]",
      "text/plain": [
       "<Figure size 432x288 with 1 Axes>"
      ]
     },
     "metadata": {
      "needs_background": "light"
     },
     "output_type": "display_data"
    },
    {
     "data": {
      "image/png": "[encoded data removed]",
      "text/plain": [
       "<Figure size 576x432 with 2 Axes>"
      ]
     },
     "metadata": {
      "needs_background": "light"
     },
     "output_type": "display_data"
    },
    {
     "data": {
      "image/png": "[encoded data removed]",
      "text/plain": [
       "<Figure size 432x288 with 1 Axes>"
      ]
     },
     "metadata": {
      "needs_background": "light"
     },
     "output_type": "display_data"
    },
    {
     "data": {
      "image/png": "[encoded data removed]",
      "text/plain": [
       "<Figure size 576x432 with 2 Axes>"
      ]
     },
     "metadata": {
      "needs_background": "light"
     },
     "output_type": "display_data"
    }
   ],
   "source": [
    "X360.plot(x='critic_score', y='sum_sales', kind='scatter', alpha=0.5)\n",
    "X360.plot(x='critic_score', y='sum_sales', kind='hexbin', gridsize=20, figsize=(8, 6), sharex=False, grid=True) \n",
    "print('Pearsons correlation coefficient (critics):', X360['sum_sales'].corr(X360['critic_score']))\n",
    "\n",
    "X360.plot(x='user_score', y='sum_sales', kind='scatter', alpha=0.5)\n",
    "X360.plot(x='user_score', y='sum_sales', kind='hexbin', gridsize=20, figsize=(8, 6), sharex=False, grid=True) \n",
    "print('Pearson correlation coefficient (users):', X360['sum_sales'].corr(X360['user_score']))"
   ]
  },
  {
   "cell_type": "markdown",
   "id": "96a287ac",
   "metadata": {
    "hidden": true
   },
   "source": [
    "Для WiiU"
   ]
  },
  {
   "cell_type": "code",
   "execution_count": 51,
   "id": "8d47e658",
   "metadata": {
    "hidden": true,
    "scrolled": true
   },
   "outputs": [
    {
     "name": "stdout",
     "output_type": "stream",
     "text": [
      "Pearsons correlation coefficient (critics): 0.37020141248088406\n",
      "Pearson correlation coefficient (users): 0.40792645792170784\n"
     ]
    },
    {
     "data": {
      "image/png": "[encoded data removed]",
      "text/plain": [
       "<Figure size 432x288 with 1 Axes>"
      ]
     },
     "metadata": {
      "needs_background": "light"
     },
     "output_type": "display_data"
    },
    {
     "data": {
      "image/png": "[encoded data removed]",
      "text/plain": [
       "<Figure size 576x432 with 2 Axes>"
      ]
     },
     "metadata": {
      "needs_background": "light"
     },
     "output_type": "display_data"
    },
    {
     "data": {
      "image/png": "[encoded data removed]",
      "text/plain": [
       "<Figure size 432x288 with 1 Axes>"
      ]
     },
     "metadata": {
      "needs_background": "light"
     },
     "output_type": "display_data"
    },
    {
     "data": {
      "image/png": "[encoded data removed]",
      "text/plain": [
       "<Figure size 576x432 with 2 Axes>"
      ]
     },
     "metadata": {
      "needs_background": "light"
     },
     "output_type": "display_data"
    }
   ],
   "source": [
    "WiiU.plot(x='critic_score', y='sum_sales', kind='scatter', alpha=0.5)\n",
    "WiiU.plot(x='critic_score', y='sum_sales', kind='hexbin', gridsize=20, figsize=(8, 6), sharex=False, grid=True) \n",
    "print('Pearsons correlation coefficient (critics):', WiiU['sum_sales'].corr(WiiU['critic_score']))\n",
    "\n",
    "WiiU.plot(x='user_score', y='sum_sales', kind='scatter', alpha=0.5)\n",
    "WiiU.plot(x='user_score', y='sum_sales', kind='hexbin', gridsize=20, figsize=(8, 6), sharex=False, grid=True) \n",
    "print('Pearson correlation coefficient (users):', WiiU['sum_sales'].corr(WiiU['user_score']))"
   ]
  },
  {
   "cell_type": "markdown",
   "id": "b36e1e72",
   "metadata": {
    "hidden": true
   },
   "source": [
    "Для 3DS"
   ]
  },
  {
   "cell_type": "code",
   "execution_count": 52,
   "id": "a724c423",
   "metadata": {
    "hidden": true,
    "scrolled": true
   },
   "outputs": [
    {
     "name": "stdout",
     "output_type": "stream",
     "text": [
      "Pearsons correlation coefficient (critics): 0.31411749286905094\n",
      "Коэффициент корреляции Пирсона (пользователи): 0.2151932718527028\n"
     ]
    },
    {
     "data": {
      "image/png": "[encoded data removed]",
      "text/plain": [
       "<Figure size 432x288 with 1 Axes>"
      ]
     },
     "metadata": {
      "needs_background": "light"
     },
     "output_type": "display_data"
    },
    {
     "data": {
      "image/png": "[encoded data removed]",
      "text/plain": [
       "<Figure size 576x432 with 2 Axes>"
      ]
     },
     "metadata": {
      "needs_background": "light"
     },
     "output_type": "display_data"
    },
    {
     "data": {
      "image/png": "[encoded data removed]",
      "text/plain": [
       "<Figure size 432x288 with 1 Axes>"
      ]
     },
     "metadata": {
      "needs_background": "light"
     },
     "output_type": "display_data"
    },
    {
     "data": {
      "image/png": "[encoded data removed]",
      "text/plain": [
       "<Figure size 576x432 with 2 Axes>"
      ]
     },
     "metadata": {
      "needs_background": "light"
     },
     "output_type": "display_data"
    }
   ],
   "source": [
    "DS3.plot(x='critic_score', y='sum_sales', kind='scatter', alpha=0.5)\n",
    "DS3.plot(x='critic_score', y='sum_sales', kind='hexbin', gridsize=20, figsize=(8, 6), sharex=False, grid=True) \n",
    "print('Pearsons correlation coefficient (critics):', DS3['sum_sales'].corr(DS3['critic_score']))\n",
    "\n",
    "DS3.plot(x='user_score', y='sum_sales', kind='scatter', alpha=0.5)\n",
    "DS3.plot(x='user_score', y='sum_sales', kind='hexbin', gridsize=20, figsize=(8, 6), sharex=False, grid=True) \n",
    "print('Коэффициент корреляции Пирсона (пользователи):', DS3['sum_sales'].corr(DS3['user_score']))"
   ]
  },
  {
   "cell_type": "markdown",
   "id": "10eebfda",
   "metadata": {
    "hidden": true
   },
   "source": [
    "Для PSV"
   ]
  },
  {
   "cell_type": "code",
   "execution_count": 53,
   "id": "4ba6f438",
   "metadata": {
    "hidden": true,
    "scrolled": true
   },
   "outputs": [
    {
     "name": "stdout",
     "output_type": "stream",
     "text": [
      "Pearsons correlation coefficient (critics): 0.04266490657009527\n",
      "Pearson correlation coefficient (users): -0.16845504978064438\n"
     ]
    },
    {
     "data": {
      "image/png": "[encoded data removed]",
      "text/plain": [
       "<Figure size 432x288 with 1 Axes>"
      ]
     },
     "metadata": {
      "needs_background": "light"
     },
     "output_type": "display_data"
    },
    {
     "data": {
      "image/png": "[encoded data removed]",
      "text/plain": [
       "<Figure size 576x432 with 2 Axes>"
      ]
     },
     "metadata": {
      "needs_background": "light"
     },
     "output_type": "display_data"
    },
    {
     "data": {
      "image/png": "[encoded data removed]",
      "text/plain": [
       "<Figure size 432x288 with 1 Axes>"
      ]
     },
     "metadata": {
      "needs_background": "light"
     },
     "output_type": "display_data"
    },
    {
     "data": {
      "image/png": "[encoded data removed]",
      "text/plain": [
       "<Figure size 576x432 with 2 Axes>"
      ]
     },
     "metadata": {
      "needs_background": "light"
     },
     "output_type": "display_data"
    }
   ],
   "source": [
    "PSV.plot(x='critic_score', y='sum_sales', kind='scatter', alpha=0.5)\n",
    "PSV.plot(x='critic_score', y='sum_sales', kind='hexbin', gridsize=20, figsize=(8, 6), sharex=False, grid=True) \n",
    "print('Pearsons correlation coefficient (critics):', PSV['sum_sales'].corr(PSV['critic_score']))\n",
    "\n",
    "PSV.plot(x='user_score', y='sum_sales', kind='scatter', alpha=0.5)\n",
    "PSV.plot(x='user_score', y='sum_sales', kind='hexbin', gridsize=20, figsize=(8, 6), sharex=False, grid=True) \n",
    "print('Pearson correlation coefficient (users):', PSV['sum_sales'].corr(PSV['user_score']))"
   ]
  },
  {
   "cell_type": "markdown",
   "id": "7b64f5b2",
   "metadata": {
    "hidden": true
   },
   "source": [
    "As you can see, there is practically no dependence of sales on user ratings among platforms (except for `WiiU` and `3DS`). There is a direct dependence on the assessment of critics, but not strong enough.\n",
    "\n",
    "On top platforms, these conclusions are about the same as on others."
   ]
  },
  {
   "cell_type": "markdown",
   "id": "18de6ebd",
   "metadata": {
    "heading_collapsed": true
   },
   "source": [
    "### Definition of profitable genres"
   ]
  },
  {
   "cell_type": "code",
   "execution_count": 54,
   "id": "4b02ed56",
   "metadata": {
    "hidden": true
   },
   "outputs": [
    {
     "data": {
      "text/plain": [
       "genre\n",
       "Action          199.36\n",
       "Shooter         170.94\n",
       "Sports          109.48\n",
       "Role-Playing    101.44\n",
       "Misc             37.55\n",
       "Fighting         28.22\n",
       "Racing           27.52\n",
       "Platform         18.09\n",
       "Adventure        17.55\n",
       "Simulation       13.13\n",
       "Strategy          3.96\n",
       "Puzzle            2.21\n",
       "Name: sum_sales, dtype: float64"
      ]
     },
     "execution_count": 54,
     "metadata": {},
     "output_type": "execute_result"
    }
   ],
   "source": [
    "# Group data by genre and sum sales\n",
    "genre_sales = games_data_relevant.groupby('genre')['sum_sales'].sum().sort_values(ascending=False)\n",
    "genre_sales"
   ]
  },
  {
   "cell_type": "markdown",
   "id": "fbf3e7eb",
   "metadata": {
    "hidden": true
   },
   "source": [
    "Thus, the most profitable genres are `Action`, `Shooter`, `Role-Playing` and `Sports`. And the least profitable `Strategy` and `Puzzle`."
   ]
  },
  {
   "cell_type": "markdown",
   "id": "b48eb7d2",
   "metadata": {},
   "source": [
    "## Drawing up a portrait of the user of each region"
   ]
  },
  {
   "cell_type": "markdown",
   "id": "106ead89",
   "metadata": {},
   "source": [
    "### Top 5 most popular platforms"
   ]
  },
  {
   "cell_type": "markdown",
   "id": "d8ba1da7",
   "metadata": {},
   "source": [
    "Let's determine the top platforms by region."
   ]
  },
  {
   "cell_type": "code",
   "execution_count": 55,
   "id": "549cc12c",
   "metadata": {
    "scrolled": true
   },
   "outputs": [
    {
     "name": "stdout",
     "output_type": "stream",
     "text": [
      "Top 5 platforms in na:\n",
      "platform\n",
      "PS4     98.61\n",
      "XOne    81.27\n",
      "X360    28.30\n",
      "3DS     22.64\n",
      "PS3     22.05\n",
      "Name: na, dtype: float64\n",
      "\n",
      "Top 5 platforms in eu:\n",
      "platform\n",
      "PS4     130.04\n",
      "XOne     46.25\n",
      "PS3      25.54\n",
      "PC       17.97\n",
      "3DS      16.12\n",
      "Name: eu, dtype: float64\n",
      "\n",
      "Top 5 platforms in jp:\n",
      "platform\n",
      "3DS     44.24\n",
      "PS4     15.02\n",
      "PSV     14.54\n",
      "PS3     11.22\n",
      "WiiU     7.31\n",
      "Name: jp, dtype: float64\n",
      "\n"
     ]
    }
   ],
   "source": [
    "# Rename the sales columns in the regions under the names of the regions\n",
    "games_data_relevant = games_data_relevant.rename(columns={'na_sales' : 'na', 'eu_sales' : 'eu', 'jp_sales' : 'jp'})\n",
    "# Forming a list for subsequent cycles\n",
    "reg = ['na', 'eu', 'jp']\n",
    "\n",
    "for value in reg:\n",
    "    print(f'Top 5 platforms in {value}:')\n",
    "    print(games_data_relevant.groupby('platform')[value].sum().sort_values(ascending=False).head())\n",
    "    print()"
   ]
  },
  {
   "cell_type": "markdown",
   "id": "8572bb5f",
   "metadata": {},
   "source": [
    "The `jp` region is dominated by handheld consoles, accounting for 70% of sales.\n",
    "\n",
    "At the same time, the share of sales in the `eu` region for portable platforms is extremely small, and the main market players are `PS3` and `PS4`. They account for 60% of all purchases.\n",
    "\n",
    "In the `na` region, the share of sales attributable to portable platforms is small. The main platforms in the market are `X360`, `PS4` and `PS3`."
   ]
  },
  {
   "cell_type": "markdown",
   "id": "0e8f8809",
   "metadata": {},
   "source": [
    "### Тtop 5 most popular genres"
   ]
  },
  {
   "cell_type": "markdown",
   "id": "9ca2543c",
   "metadata": {},
   "source": [
    "Let's define the top genres by region."
   ]
  },
  {
   "cell_type": "code",
   "execution_count": 56,
   "id": "c1ed8319",
   "metadata": {
    "scrolled": true
   },
   "outputs": [
    {
     "name": "stdout",
     "output_type": "stream",
     "text": [
      "Top 5 platforms in na:\n",
      "genre\n",
      "Shooter         79.02\n",
      "Action          72.53\n",
      "Sports          46.13\n",
      "Role-Playing    33.47\n",
      "Misc            15.05\n",
      "Name: na, dtype: float64\n",
      "\n",
      "Top 5 platforms in eu:\n",
      "genre\n",
      "Action          74.68\n",
      "Shooter         65.52\n",
      "Sports          45.73\n",
      "Role-Playing    28.17\n",
      "Racing          14.13\n",
      "Name: eu, dtype: float64\n",
      "\n",
      "Top 5 platforms in jp:\n",
      "genre\n",
      "Role-Playing    31.16\n",
      "Action          29.58\n",
      "Fighting         6.37\n",
      "Misc             5.61\n",
      "Shooter          4.87\n",
      "Name: jp, dtype: float64\n",
      "\n"
     ]
    }
   ],
   "source": [
    "for value in reg:\n",
    "    print(f'Top 5 platforms in {value}:')\n",
    "    print(games_data_relevant.groupby('genre')[value].sum().sort_values(ascending=False).head())\n",
    "    print()"
   ]
  },
  {
   "cell_type": "markdown",
   "id": "4d45cfe7",
   "metadata": {},
   "source": [
    "The `na` and `eu` regions are characterized by the predominance of `Action` and `Shooter`. Also, the difference in the top genres is only in 5 positions. In general, these regions are similar in terms of genre interests.\n",
    "\n",
    "At the same time, the `jp` region is fundamentally different from them. It has `Role-Playing` and `Action` in the first places. And then the other genres follow by a wide margin."
   ]
  },
  {
   "cell_type": "markdown",
   "id": "6fd65d74",
   "metadata": {},
   "source": [
    "### The impact of the ESRB on sales in a particular region"
   ]
  },
  {
   "cell_type": "code",
   "execution_count": 57,
   "id": "546dfa83",
   "metadata": {},
   "outputs": [
    {
     "data": {
      "text/html": [
       "<div>\n",
       "<style scoped>\n",
       "    .dataframe tbody tr th:only-of-type {\n",
       "        vertical-align: middle;\n",
       "    }\n",
       "\n",
       "    .dataframe tbody tr th {\n",
       "        vertical-align: top;\n",
       "    }\n",
       "\n",
       "    .dataframe thead th {\n",
       "        text-align: right;\n",
       "    }\n",
       "</style>\n",
       "<table border=\"1\" class=\"dataframe\">\n",
       "  <thead>\n",
       "    <tr style=\"text-align: right;\">\n",
       "      <th></th>\n",
       "      <th>name</th>\n",
       "      <th>na</th>\n",
       "      <th>eu</th>\n",
       "      <th>jp</th>\n",
       "      <th>rating</th>\n",
       "    </tr>\n",
       "  </thead>\n",
       "  <tbody>\n",
       "    <tr>\n",
       "      <th>31</th>\n",
       "      <td>Call of Duty: Black Ops 3</td>\n",
       "      <td>6.03</td>\n",
       "      <td>5.86</td>\n",
       "      <td>0.36</td>\n",
       "      <td>None</td>\n",
       "    </tr>\n",
       "    <tr>\n",
       "      <th>42</th>\n",
       "      <td>Grand Theft Auto V</td>\n",
       "      <td>3.96</td>\n",
       "      <td>6.31</td>\n",
       "      <td>0.38</td>\n",
       "      <td>M</td>\n",
       "    </tr>\n",
       "    <tr>\n",
       "      <th>47</th>\n",
       "      <td>Pokemon Omega Ruby/Pokemon Alpha Sapphire</td>\n",
       "      <td>4.35</td>\n",
       "      <td>3.49</td>\n",
       "      <td>3.10</td>\n",
       "      <td>None</td>\n",
       "    </tr>\n",
       "    <tr>\n",
       "      <th>77</th>\n",
       "      <td>FIFA 16</td>\n",
       "      <td>1.12</td>\n",
       "      <td>6.12</td>\n",
       "      <td>0.06</td>\n",
       "      <td>E</td>\n",
       "    </tr>\n",
       "    <tr>\n",
       "      <th>87</th>\n",
       "      <td>Star Wars Battlefront (2015)</td>\n",
       "      <td>2.99</td>\n",
       "      <td>3.49</td>\n",
       "      <td>0.22</td>\n",
       "      <td>None</td>\n",
       "    </tr>\n",
       "    <tr>\n",
       "      <th>...</th>\n",
       "      <td>...</td>\n",
       "      <td>...</td>\n",
       "      <td>...</td>\n",
       "      <td>...</td>\n",
       "      <td>...</td>\n",
       "    </tr>\n",
       "    <tr>\n",
       "      <th>16703</th>\n",
       "      <td>Strawberry Nauts</td>\n",
       "      <td>0.00</td>\n",
       "      <td>0.00</td>\n",
       "      <td>0.01</td>\n",
       "      <td>None</td>\n",
       "    </tr>\n",
       "    <tr>\n",
       "      <th>16707</th>\n",
       "      <td>Aiyoku no Eustia</td>\n",
       "      <td>0.00</td>\n",
       "      <td>0.00</td>\n",
       "      <td>0.01</td>\n",
       "      <td>None</td>\n",
       "    </tr>\n",
       "    <tr>\n",
       "      <th>16710</th>\n",
       "      <td>Samurai Warriors: Sanada Maru</td>\n",
       "      <td>0.00</td>\n",
       "      <td>0.00</td>\n",
       "      <td>0.01</td>\n",
       "      <td>None</td>\n",
       "    </tr>\n",
       "    <tr>\n",
       "      <th>16712</th>\n",
       "      <td>Haitaka no Psychedelica</td>\n",
       "      <td>0.00</td>\n",
       "      <td>0.00</td>\n",
       "      <td>0.01</td>\n",
       "      <td>None</td>\n",
       "    </tr>\n",
       "    <tr>\n",
       "      <th>16714</th>\n",
       "      <td>Winning Post 8 2016</td>\n",
       "      <td>0.00</td>\n",
       "      <td>0.00</td>\n",
       "      <td>0.01</td>\n",
       "      <td>None</td>\n",
       "    </tr>\n",
       "  </tbody>\n",
       "</table>\n",
       "<p>1689 rows × 5 columns</p>\n",
       "</div>"
      ],
      "text/plain": [
       "                                            name    na    eu    jp rating\n",
       "31                     Call of Duty: Black Ops 3  6.03  5.86  0.36   None\n",
       "42                            Grand Theft Auto V  3.96  6.31  0.38      M\n",
       "47     Pokemon Omega Ruby/Pokemon Alpha Sapphire  4.35  3.49  3.10   None\n",
       "77                                       FIFA 16  1.12  6.12  0.06      E\n",
       "87                  Star Wars Battlefront (2015)  2.99  3.49  0.22   None\n",
       "...                                          ...   ...   ...   ...    ...\n",
       "16703                           Strawberry Nauts  0.00  0.00  0.01   None\n",
       "16707                           Aiyoku no Eustia  0.00  0.00  0.01   None\n",
       "16710              Samurai Warriors: Sanada Maru  0.00  0.00  0.01   None\n",
       "16712                    Haitaka no Psychedelica  0.00  0.00  0.01   None\n",
       "16714                        Winning Post 8 2016  0.00  0.00  0.01   None\n",
       "\n",
       "[1689 rows x 5 columns]"
      ]
     },
     "execution_count": 57,
     "metadata": {},
     "output_type": "execute_result"
    }
   ],
   "source": [
    "# Create a dataframe to work with rating impact assessment\n",
    "esrb_sales_influence = pd.DataFrame\n",
    "# Copy the original dataframe and remove unnecessary columns\n",
    "esrb_sales_influence = games_data_relevant.copy(deep=True)\n",
    "esrb_sales_influence = esrb_sales_influence.drop(columns=['platform', \n",
    "                                                          'year_of_release', \n",
    "                                                          'genre', \n",
    "                                                          'other_sales',\n",
    "                                                          'critic_score',\n",
    "                                                          'user_score',\n",
    "                                                          'sum_sales'], axis = 1)\n",
    "# Let's replace NaN in the gaps with None in order to perform the necessary mathematical operations and make the gaps into a separate category\n",
    "esrb_sales_influence = esrb_sales_influence.fillna('None')\n",
    "esrb_sales_influence"
   ]
  },
  {
   "cell_type": "code",
   "execution_count": 58,
   "id": "cb2a9e87",
   "metadata": {},
   "outputs": [
    {
     "data": {
      "text/html": [
       "<div>\n",
       "<style scoped>\n",
       "    .dataframe tbody tr th:only-of-type {\n",
       "        vertical-align: middle;\n",
       "    }\n",
       "\n",
       "    .dataframe tbody tr th {\n",
       "        vertical-align: top;\n",
       "    }\n",
       "\n",
       "    .dataframe thead th {\n",
       "        text-align: right;\n",
       "    }\n",
       "</style>\n",
       "<table border=\"1\" class=\"dataframe\">\n",
       "  <thead>\n",
       "    <tr style=\"text-align: right;\">\n",
       "      <th></th>\n",
       "      <th>name</th>\n",
       "      <th>na</th>\n",
       "      <th>eu</th>\n",
       "      <th>jp</th>\n",
       "      <th>rating</th>\n",
       "      <th>na_%</th>\n",
       "      <th>eu_%</th>\n",
       "      <th>jp_%</th>\n",
       "    </tr>\n",
       "  </thead>\n",
       "  <tbody>\n",
       "    <tr>\n",
       "      <th>31</th>\n",
       "      <td>Call of Duty: Black Ops 3</td>\n",
       "      <td>6.03</td>\n",
       "      <td>5.86</td>\n",
       "      <td>0.36</td>\n",
       "      <td>None</td>\n",
       "      <td>0.492245</td>\n",
       "      <td>0.478367</td>\n",
       "      <td>0.029388</td>\n",
       "    </tr>\n",
       "    <tr>\n",
       "      <th>42</th>\n",
       "      <td>Grand Theft Auto V</td>\n",
       "      <td>3.96</td>\n",
       "      <td>6.31</td>\n",
       "      <td>0.38</td>\n",
       "      <td>M</td>\n",
       "      <td>0.371831</td>\n",
       "      <td>0.592488</td>\n",
       "      <td>0.035681</td>\n",
       "    </tr>\n",
       "    <tr>\n",
       "      <th>47</th>\n",
       "      <td>Pokemon Omega Ruby/Pokemon Alpha Sapphire</td>\n",
       "      <td>4.35</td>\n",
       "      <td>3.49</td>\n",
       "      <td>3.10</td>\n",
       "      <td>None</td>\n",
       "      <td>0.397623</td>\n",
       "      <td>0.319013</td>\n",
       "      <td>0.283364</td>\n",
       "    </tr>\n",
       "    <tr>\n",
       "      <th>77</th>\n",
       "      <td>FIFA 16</td>\n",
       "      <td>1.12</td>\n",
       "      <td>6.12</td>\n",
       "      <td>0.06</td>\n",
       "      <td>E</td>\n",
       "      <td>0.153425</td>\n",
       "      <td>0.838356</td>\n",
       "      <td>0.008219</td>\n",
       "    </tr>\n",
       "    <tr>\n",
       "      <th>87</th>\n",
       "      <td>Star Wars Battlefront (2015)</td>\n",
       "      <td>2.99</td>\n",
       "      <td>3.49</td>\n",
       "      <td>0.22</td>\n",
       "      <td>None</td>\n",
       "      <td>0.446269</td>\n",
       "      <td>0.520896</td>\n",
       "      <td>0.032836</td>\n",
       "    </tr>\n",
       "    <tr>\n",
       "      <th>...</th>\n",
       "      <td>...</td>\n",
       "      <td>...</td>\n",
       "      <td>...</td>\n",
       "      <td>...</td>\n",
       "      <td>...</td>\n",
       "      <td>...</td>\n",
       "      <td>...</td>\n",
       "      <td>...</td>\n",
       "    </tr>\n",
       "    <tr>\n",
       "      <th>16703</th>\n",
       "      <td>Strawberry Nauts</td>\n",
       "      <td>0.00</td>\n",
       "      <td>0.00</td>\n",
       "      <td>0.01</td>\n",
       "      <td>None</td>\n",
       "      <td>0.000000</td>\n",
       "      <td>0.000000</td>\n",
       "      <td>1.000000</td>\n",
       "    </tr>\n",
       "    <tr>\n",
       "      <th>16707</th>\n",
       "      <td>Aiyoku no Eustia</td>\n",
       "      <td>0.00</td>\n",
       "      <td>0.00</td>\n",
       "      <td>0.01</td>\n",
       "      <td>None</td>\n",
       "      <td>0.000000</td>\n",
       "      <td>0.000000</td>\n",
       "      <td>1.000000</td>\n",
       "    </tr>\n",
       "    <tr>\n",
       "      <th>16710</th>\n",
       "      <td>Samurai Warriors: Sanada Maru</td>\n",
       "      <td>0.00</td>\n",
       "      <td>0.00</td>\n",
       "      <td>0.01</td>\n",
       "      <td>None</td>\n",
       "      <td>0.000000</td>\n",
       "      <td>0.000000</td>\n",
       "      <td>1.000000</td>\n",
       "    </tr>\n",
       "    <tr>\n",
       "      <th>16712</th>\n",
       "      <td>Haitaka no Psychedelica</td>\n",
       "      <td>0.00</td>\n",
       "      <td>0.00</td>\n",
       "      <td>0.01</td>\n",
       "      <td>None</td>\n",
       "      <td>0.000000</td>\n",
       "      <td>0.000000</td>\n",
       "      <td>1.000000</td>\n",
       "    </tr>\n",
       "    <tr>\n",
       "      <th>16714</th>\n",
       "      <td>Winning Post 8 2016</td>\n",
       "      <td>0.00</td>\n",
       "      <td>0.00</td>\n",
       "      <td>0.01</td>\n",
       "      <td>None</td>\n",
       "      <td>0.000000</td>\n",
       "      <td>0.000000</td>\n",
       "      <td>1.000000</td>\n",
       "    </tr>\n",
       "  </tbody>\n",
       "</table>\n",
       "<p>1689 rows × 8 columns</p>\n",
       "</div>"
      ],
      "text/plain": [
       "                                            name    na    eu    jp rating  \\\n",
       "31                     Call of Duty: Black Ops 3  6.03  5.86  0.36   None   \n",
       "42                            Grand Theft Auto V  3.96  6.31  0.38      M   \n",
       "47     Pokemon Omega Ruby/Pokemon Alpha Sapphire  4.35  3.49  3.10   None   \n",
       "77                                       FIFA 16  1.12  6.12  0.06      E   \n",
       "87                  Star Wars Battlefront (2015)  2.99  3.49  0.22   None   \n",
       "...                                          ...   ...   ...   ...    ...   \n",
       "16703                           Strawberry Nauts  0.00  0.00  0.01   None   \n",
       "16707                           Aiyoku no Eustia  0.00  0.00  0.01   None   \n",
       "16710              Samurai Warriors: Sanada Maru  0.00  0.00  0.01   None   \n",
       "16712                    Haitaka no Psychedelica  0.00  0.00  0.01   None   \n",
       "16714                        Winning Post 8 2016  0.00  0.00  0.01   None   \n",
       "\n",
       "           na_%      eu_%      jp_%  \n",
       "31     0.492245  0.478367  0.029388  \n",
       "42     0.371831  0.592488  0.035681  \n",
       "47     0.397623  0.319013  0.283364  \n",
       "77     0.153425  0.838356  0.008219  \n",
       "87     0.446269  0.520896  0.032836  \n",
       "...         ...       ...       ...  \n",
       "16703  0.000000  0.000000  1.000000  \n",
       "16707  0.000000  0.000000  1.000000  \n",
       "16710  0.000000  0.000000  1.000000  \n",
       "16712  0.000000  0.000000  1.000000  \n",
       "16714  0.000000  0.000000  1.000000  \n",
       "\n",
       "[1689 rows x 8 columns]"
      ]
     },
     "execution_count": 58,
     "metadata": {},
     "output_type": "execute_result"
    }
   ],
   "source": [
    "# Function to calculate the percentage of sales in the region\n",
    "def sales_rating_na(row):    \n",
    "    na = row['na']\n",
    "    eu = row['eu']\n",
    "    jp = row['jp']\n",
    "    sum = na + eu + jp \n",
    "    return na / sum\n",
    "\n",
    "def sales_rating_eu(row):    \n",
    "    na = row['na']\n",
    "    eu = row['eu']\n",
    "    jp = row['jp']\n",
    "    sum = na + eu + jp \n",
    "    return eu / sum\n",
    "\n",
    "def sales_rating_jp(row):    \n",
    "    na = row['na']\n",
    "    eu = row['eu']\n",
    "    jp = row['jp']\n",
    "    sum = na + eu + jp \n",
    "    return jp / sum\n",
    "\n",
    "# For each game, the percentage of sales by region is calculated\n",
    "# Accordingly, for each rating, sets of sales percentages will be obtained\n",
    "esrb_sales_influence['na_%'] = esrb_sales_influence.apply(sales_rating_na, axis=1)\n",
    "esrb_sales_influence['eu_%'] = esrb_sales_influence.apply(sales_rating_eu, axis=1)\n",
    "esrb_sales_influence['jp_%'] = esrb_sales_influence.apply(sales_rating_jp, axis=1)\n",
    "esrb_sales_influence"
   ]
  },
  {
   "cell_type": "code",
   "execution_count": 59,
   "id": "51aa93fc",
   "metadata": {},
   "outputs": [
    {
     "name": "stdout",
     "output_type": "stream",
     "text": [
      "Percentage of sales for NA by ratings:\n"
     ]
    },
    {
     "data": {
      "text/plain": [
       "rating\n",
       "E       0.387099\n",
       "E10+    0.469302\n",
       "M       0.468432\n",
       "None    0.166488\n",
       "T       0.360865\n",
       "Name: na_%, dtype: float64"
      ]
     },
     "execution_count": 59,
     "metadata": {},
     "output_type": "execute_result"
    }
   ],
   "source": [
    "# Group all percentages for each region, and then normalize them by the number of games with a particular rating\n",
    "# Thus, we get the percentage of sales of games that have been assigned this or that rating\n",
    "print('Percentage of sales for NA by ratings:')\n",
    "esrb_sales_influence.groupby('rating')['na_%'].sum() / esrb_sales_influence.groupby('rating')['na_%'].count()"
   ]
  },
  {
   "cell_type": "code",
   "execution_count": 60,
   "id": "3a9957e9",
   "metadata": {},
   "outputs": [
    {
     "name": "stdout",
     "output_type": "stream",
     "text": [
      "Percentage of sales for EU by ratings:\n"
     ]
    },
    {
     "data": {
      "text/plain": [
       "rating\n",
       "E       0.556118\n",
       "E10+    0.462724\n",
       "M       0.458486\n",
       "None    0.211169\n",
       "T       0.358320\n",
       "dtype: float64"
      ]
     },
     "execution_count": 60,
     "metadata": {},
     "output_type": "execute_result"
    }
   ],
   "source": [
    "print('Percentage of sales for EU by ratings:')\n",
    "esrb_sales_influence.groupby('rating')['eu_%'].sum() / esrb_sales_influence.groupby('rating')['na_%'].count()"
   ]
  },
  {
   "cell_type": "code",
   "execution_count": 61,
   "id": "e9d403bc",
   "metadata": {},
   "outputs": [
    {
     "name": "stdout",
     "output_type": "stream",
     "text": [
      "Percentage of sales for JP by ratings:\n"
     ]
    },
    {
     "data": {
      "text/plain": [
       "rating\n",
       "E       0.056783\n",
       "E10+    0.067974\n",
       "M       0.073082\n",
       "None    0.622343\n",
       "T       0.280815\n",
       "dtype: float64"
      ]
     },
     "execution_count": 61,
     "metadata": {},
     "output_type": "execute_result"
    }
   ],
   "source": [
    "print('Percentage of sales for JP by ratings:')\n",
    "esrb_sales_influence.groupby('rating')['jp_%'].sum() / esrb_sales_influence.groupby('rating')['na_%'].count()"
   ]
  },
  {
   "cell_type": "markdown",
   "id": "67ec8a6f",
   "metadata": {},
   "source": [
    "So, as you can see from the percentage of sales, there is some influence of the ranking on sales in different regions:\n",
    "    \n",
    "     1. `JP` has the highest number of game sales that have not been assigned an ESRB. The second place is rated \"T\".\n",
    "     2. In `EU` region, the highest sales fall on the \"E\" rating. The following \"E10+\" and \"M\" are slightly less popular.\n",
    "     3. In `NA` segment, unrated games are least preferred. The rest of the rating groups are equally distributed."
   ]
  },
  {
   "cell_type": "markdown",
   "id": "9debe306",
   "metadata": {},
   "source": [
    "## Hypothesis testing"
   ]
  },
  {
   "cell_type": "markdown",
   "id": "8808f19a",
   "metadata": {},
   "source": [
    "### The average user ratings of the Xbox One and PC platforms are the same"
   ]
  },
  {
   "cell_type": "markdown",
   "id": "99b708b5",
   "metadata": {},
   "source": [
    "Let's calculate the Mean, variance and standard deviation for user ratings. Then we visualize the distribution and test the hypothesis."
   ]
  },
  {
   "cell_type": "code",
   "execution_count": 62,
   "id": "a467ee40",
   "metadata": {},
   "outputs": [
    {
     "name": "stdout",
     "output_type": "stream",
     "text": [
      "Average user rating for PC: 6.298360655737703\n",
      "Average user rating for X360: 5.7710843373493965\n",
      "PC User Score Variance: 2.877374361730719\n",
      "Dispersion of user rating for X360: 2.887597619393235\n",
      "Standard deviation of user rating for PC: 1.6962825123577496\n",
      "Standard deviation of user rating for X360: 1.6992932705666892\n"
     ]
    }
   ],
   "source": [
    "# Mean\n",
    "mean_user_score_PC = (PC['user_score'].mean())\n",
    "mean_user_score_X360 = (X360['user_score'].mean())\n",
    "\n",
    "# Dispersion\n",
    "dis_user_score_PC = (np.var(PC['user_score']))\n",
    "dis_user_score_X360 = (np.var(X360['user_score']))\n",
    "\n",
    "# Standard deviation \n",
    "stdev_user_score_PC = (np.std(PC['user_score']))\n",
    "stdev_user_score_X360 = (np.std(X360['user_score']))\n",
    "\n",
    "print('Average user rating for PC:', mean_user_score_PC)\n",
    "print('Average user rating for X360:', mean_user_score_X360)\n",
    "\n",
    "print('PC User Score Variance:', dis_user_score_PC)\n",
    "print('Dispersion of user rating for X360:', dis_user_score_X360)\n",
    "\n",
    "print('Standard deviation of user rating for PC:', stdev_user_score_PC)\n",
    "print('Standard deviation of user rating for X360:', stdev_user_score_X360)"
   ]
  },
  {
   "cell_type": "code",
   "execution_count": 63,
   "id": "d0197bca",
   "metadata": {},
   "outputs": [
    {
     "data": {
      "image/png": "[encoded data removed]",
      "text/plain": [
       "<Figure size 432x288 with 1 Axes>"
      ]
     },
     "metadata": {
      "needs_background": "light"
     },
     "output_type": "display_data"
    }
   ],
   "source": [
    "PC['user_score'].hist(bins=100)\n",
    "X360['user_score'].hist(bins=100, alpha=0.5);"
   ]
  },
  {
   "cell_type": "markdown",
   "id": "4b623744",
   "metadata": {},
   "source": [
    "Let's form hypotheses:\n",
    "    \n",
    "     1. Null Hypothesis: Average scores of PC and X360 users are equal.\n",
    "     2. Alternative hypothesis: PC and X360 user average scores are different.\n"
   ]
  },
  {
   "cell_type": "code",
   "execution_count": 64,
   "id": "23da7b1a",
   "metadata": {},
   "outputs": [
    {
     "name": "stdout",
     "output_type": "stream",
     "text": [
      "p-value: 0.030983578725445982\n",
      "Failed to reject the null hypothesis\n"
     ]
    }
   ],
   "source": [
    "# Check for equality averages\n",
    "alpha = 0.01 # critical level of statistical significance\n",
    "\n",
    "# Assume that the population variances are equal\n",
    "results = st.ttest_ind(PC['user_score'].dropna(), X360['user_score'].dropna(), equal_var = True)\n",
    "\n",
    "print('p-value:', results.pvalue)\n",
    "\n",
    "if results.pvalue < alpha:\n",
    "    print(\"Rejecting the null hypothesis\")\n",
    "else:\n",
    "    print(\"Failed to reject the null hypothesis\")"
   ]
  },
  {
   "cell_type": "markdown",
   "id": "ccd98331",
   "metadata": {},
   "source": [
    "The hypothesis about equal average ratings of `PC` and `X360` was confirmed."
   ]
  },
  {
   "cell_type": "markdown",
   "id": "a7a7e17d",
   "metadata": {},
   "source": [
    "### Average user ratings for the Action and Sports genres are different"
   ]
  },
  {
   "cell_type": "code",
   "execution_count": 65,
   "id": "fc01375e",
   "metadata": {},
   "outputs": [],
   "source": [
    "action_genre = games_data_relevant[games_data_relevant['genre'] == 'Action']\n",
    "sports_genre = games_data_relevant[games_data_relevant['genre'] == 'Sports']"
   ]
  },
  {
   "cell_type": "code",
   "execution_count": 66,
   "id": "a5c964fc",
   "metadata": {},
   "outputs": [
    {
     "name": "stdout",
     "output_type": "stream",
     "text": [
      "Average user rating for genre \"Action\": 6.760606060606054\n",
      "Average user rating for genre \"Spotrs\": 5.225196850393697\n",
      "Genre User Score Variance \"Action\": 1.8920844811753907\n",
      "Genre User Score Variance \"Spotrs\": 3.419837559675118\n",
      "Standard deviation of the user rating for the genre \"Action\": 1.3755306180435936\n",
      "Standard deviation of the user rating for the genre \"Spotrs\": 1.8492802815352567\n"
     ]
    }
   ],
   "source": [
    "# Mean\n",
    "mean_user_score_action = (action_genre['user_score'].mean())\n",
    "mean_user_score_sports = (sports_genre['user_score'].mean())\n",
    "\n",
    "# Dispersion \n",
    "dis_user_score_action = (np.var(action_genre['user_score']))\n",
    "dis_user_score_sports = (np.var(sports_genre['user_score']))\n",
    "\n",
    "# Standard deviation \n",
    "stdev_user_score_action = (np.std(action_genre['user_score']))\n",
    "stdev_user_score_sports = (np.std(sports_genre['user_score']))\n",
    "\n",
    "print('Average user rating for genre \"Action\":', mean_user_score_action)\n",
    "print('Average user rating for genre \"Spotrs\":', mean_user_score_sports)\n",
    "\n",
    "print('Genre User Score Variance \"Action\":', dis_user_score_action)\n",
    "print('Genre User Score Variance \"Spotrs\":', dis_user_score_sports)\n",
    "\n",
    "print('Standard deviation of the user rating for the genre \"Action\":', stdev_user_score_action)\n",
    "print('Standard deviation of the user rating for the genre \"Spotrs\":', stdev_user_score_sports)"
   ]
  },
  {
   "cell_type": "code",
   "execution_count": 67,
   "id": "8bedd1fb",
   "metadata": {},
   "outputs": [
    {
     "data": {
      "image/png": "[encoded data removed]",
      "text/plain": [
       "<Figure size 432x288 with 1 Axes>"
      ]
     },
     "metadata": {
      "needs_background": "light"
     },
     "output_type": "display_data"
    }
   ],
   "source": [
    "action_genre['user_score'].hist(bins=100)\n",
    "sports_genre['user_score'].hist(bins=100, alpha=0.5);"
   ]
  },
  {
   "cell_type": "markdown",
   "id": "955fe141",
   "metadata": {},
   "source": [
    "Let's form hypotheses:\n",
    "    \n",
    "     1. Null hypothesis: the average user rating of the \"Action\" genre and the \"Spotrs\" genre are equal.\n",
    "     2. Alternative hypothesis: the average rating of users of the \"Action\" genre and the \"Spotrs\" genre are different."
   ]
  },
  {
   "cell_type": "code",
   "execution_count": 68,
   "id": "4ed3fb7b",
   "metadata": {},
   "outputs": [
    {
     "name": "stdout",
     "output_type": "stream",
     "text": [
      "p-value: 2.8711147985105864e-19\n",
      "Rejecting the null hypothesis\n"
     ]
    }
   ],
   "source": [
    "# Check for equality averages\n",
    "alpha = 0.01 # critical level of statistical significance\n",
    "\n",
    "# Assume that the population variances are equal\n",
    "results = st.ttest_ind(action_genre['user_score'].dropna(), sports_genre['user_score'].dropna(), equal_var = True)\n",
    "\n",
    "print('p-value:', results.pvalue)\n",
    "\n",
    "if results.pvalue < alpha:\n",
    "    print(\"Rejecting the null hypothesis\")\n",
    "else:\n",
    "    print(\"Failed to reject the null hypothesis\")"
   ]
  },
  {
   "cell_type": "markdown",
   "id": "9ce24354",
   "metadata": {},
   "source": [
    "The hypothesis about different average ratings of `Action` and `Sports` was confirmed."
   ]
  },
  {
   "cell_type": "markdown",
   "id": "d6666583",
   "metadata": {},
   "source": [
    "## Conclusion"
   ]
  },
  {
   "cell_type": "markdown",
   "id": "1eec9981",
   "metadata": {},
   "source": [
    "In the course of this work, an analysis was made of the market of gaming platforms in the period from 1980 to 2016. An actual period has been determined on the basis of which forecasts for 2017 can be made.\n",
    "\n",
    "Top selling platforms identified, as well as potentially profitable and declining platforms. The relationship between the number of sales and the ratings of critics and players was evaluated. The most profitable genres and the genres with the least popularity are determined.\n",
    "\n",
    "User portraits for three regions were also compiled. For each region, its top platforms, genres and the influence of the rating on sales are determined.\n",
    "\n",
    "The hypotheses about \"average user ratings of `PC` and `X360` platforms\" and \"average user ratings of `Action` and `Sports`\" were tested."
   ]
  }
 ],
 "metadata": {
  "ExecuteTimeLog": [
   {
    "duration": 2516,
    "start_time": "2022-05-15T14:43:40.588Z"
   },
   {
    "duration": 354,
    "start_time": "2022-05-15T14:43:43.108Z"
   },
   {
    "duration": 0,
    "start_time": "2022-05-15T14:43:43.471Z"
   },
   {
    "duration": 0,
    "start_time": "2022-05-15T14:43:43.473Z"
   },
   {
    "duration": 0,
    "start_time": "2022-05-15T14:43:43.476Z"
   },
   {
    "duration": 0,
    "start_time": "2022-05-15T14:43:43.478Z"
   },
   {
    "duration": 0,
    "start_time": "2022-05-15T14:43:43.480Z"
   },
   {
    "duration": 0,
    "start_time": "2022-05-15T14:43:43.482Z"
   },
   {
    "duration": 0,
    "start_time": "2022-05-15T14:43:43.484Z"
   },
   {
    "duration": 0,
    "start_time": "2022-05-15T14:43:43.486Z"
   },
   {
    "duration": 0,
    "start_time": "2022-05-15T14:43:43.489Z"
   },
   {
    "duration": 0,
    "start_time": "2022-05-15T14:43:43.491Z"
   },
   {
    "duration": 0,
    "start_time": "2022-05-15T14:43:43.493Z"
   },
   {
    "duration": 0,
    "start_time": "2022-05-15T14:43:43.495Z"
   },
   {
    "duration": 0,
    "start_time": "2022-05-15T14:43:43.498Z"
   },
   {
    "duration": 0,
    "start_time": "2022-05-15T14:43:43.500Z"
   },
   {
    "duration": 0,
    "start_time": "2022-05-15T14:43:43.502Z"
   },
   {
    "duration": 0,
    "start_time": "2022-05-15T14:43:43.553Z"
   },
   {
    "duration": 0,
    "start_time": "2022-05-15T14:43:43.555Z"
   },
   {
    "duration": 0,
    "start_time": "2022-05-15T14:43:43.557Z"
   },
   {
    "duration": 0,
    "start_time": "2022-05-15T14:43:43.560Z"
   },
   {
    "duration": 0,
    "start_time": "2022-05-15T14:43:43.562Z"
   },
   {
    "duration": 0,
    "start_time": "2022-05-15T14:43:43.564Z"
   },
   {
    "duration": 0,
    "start_time": "2022-05-15T14:43:43.566Z"
   },
   {
    "duration": 0,
    "start_time": "2022-05-15T14:43:43.568Z"
   },
   {
    "duration": 0,
    "start_time": "2022-05-15T14:43:43.570Z"
   },
   {
    "duration": 0,
    "start_time": "2022-05-15T14:43:43.573Z"
   },
   {
    "duration": 0,
    "start_time": "2022-05-15T14:43:43.575Z"
   },
   {
    "duration": 0,
    "start_time": "2022-05-15T14:43:43.577Z"
   },
   {
    "duration": 0,
    "start_time": "2022-05-15T14:43:43.579Z"
   },
   {
    "duration": 0,
    "start_time": "2022-05-15T14:43:43.582Z"
   },
   {
    "duration": 0,
    "start_time": "2022-05-15T14:43:43.584Z"
   },
   {
    "duration": 0,
    "start_time": "2022-05-15T14:43:43.586Z"
   },
   {
    "duration": 0,
    "start_time": "2022-05-15T14:43:43.588Z"
   },
   {
    "duration": 0,
    "start_time": "2022-05-15T14:43:43.590Z"
   },
   {
    "duration": 0,
    "start_time": "2022-05-15T14:43:43.654Z"
   },
   {
    "duration": 0,
    "start_time": "2022-05-15T14:43:43.655Z"
   },
   {
    "duration": 0,
    "start_time": "2022-05-15T14:43:43.658Z"
   },
   {
    "duration": 0,
    "start_time": "2022-05-15T14:43:43.660Z"
   },
   {
    "duration": 0,
    "start_time": "2022-05-15T14:43:43.662Z"
   },
   {
    "duration": 0,
    "start_time": "2022-05-15T14:43:43.664Z"
   },
   {
    "duration": 1,
    "start_time": "2022-05-15T14:43:43.666Z"
   },
   {
    "duration": 0,
    "start_time": "2022-05-15T14:43:43.669Z"
   },
   {
    "duration": 0,
    "start_time": "2022-05-15T14:43:43.671Z"
   },
   {
    "duration": 0,
    "start_time": "2022-05-15T14:43:43.674Z"
   },
   {
    "duration": 0,
    "start_time": "2022-05-15T14:43:43.676Z"
   },
   {
    "duration": 0,
    "start_time": "2022-05-15T14:43:43.678Z"
   },
   {
    "duration": 0,
    "start_time": "2022-05-15T14:43:43.680Z"
   },
   {
    "duration": 0,
    "start_time": "2022-05-15T14:43:43.682Z"
   },
   {
    "duration": 1,
    "start_time": "2022-05-15T14:43:43.684Z"
   },
   {
    "duration": 0,
    "start_time": "2022-05-15T14:43:43.687Z"
   },
   {
    "duration": 0,
    "start_time": "2022-05-15T14:43:43.689Z"
   },
   {
    "duration": 0,
    "start_time": "2022-05-15T14:43:43.752Z"
   },
   {
    "duration": 0,
    "start_time": "2022-05-15T14:43:43.754Z"
   },
   {
    "duration": 0,
    "start_time": "2022-05-15T14:43:43.756Z"
   },
   {
    "duration": 0,
    "start_time": "2022-05-15T14:43:43.759Z"
   },
   {
    "duration": 0,
    "start_time": "2022-05-15T14:43:43.761Z"
   },
   {
    "duration": 0,
    "start_time": "2022-05-15T14:43:43.763Z"
   },
   {
    "duration": 0,
    "start_time": "2022-05-15T14:43:43.766Z"
   },
   {
    "duration": 0,
    "start_time": "2022-05-15T14:43:43.768Z"
   },
   {
    "duration": 0,
    "start_time": "2022-05-15T14:43:43.771Z"
   },
   {
    "duration": 0,
    "start_time": "2022-05-15T14:43:43.773Z"
   },
   {
    "duration": 0,
    "start_time": "2022-05-15T14:43:43.775Z"
   },
   {
    "duration": 0,
    "start_time": "2022-05-15T14:43:43.777Z"
   },
   {
    "duration": 0,
    "start_time": "2022-05-15T14:43:43.779Z"
   },
   {
    "duration": 0,
    "start_time": "2022-05-15T14:43:43.782Z"
   },
   {
    "duration": 0,
    "start_time": "2022-05-15T14:43:43.784Z"
   },
   {
    "duration": 0,
    "start_time": "2022-05-15T14:43:43.786Z"
   },
   {
    "duration": 66,
    "start_time": "2022-05-15T14:44:25.381Z"
   },
   {
    "duration": 44,
    "start_time": "2022-05-15T14:44:33.466Z"
   },
   {
    "duration": 22,
    "start_time": "2022-05-15T14:44:33.513Z"
   },
   {
    "duration": 30,
    "start_time": "2022-05-15T14:44:33.552Z"
   },
   {
    "duration": 15,
    "start_time": "2022-05-15T14:44:33.585Z"
   },
   {
    "duration": 27,
    "start_time": "2022-05-15T14:44:33.652Z"
   },
   {
    "duration": 6,
    "start_time": "2022-05-15T14:44:33.681Z"
   },
   {
    "duration": 8,
    "start_time": "2022-05-15T14:44:33.690Z"
   },
   {
    "duration": 52,
    "start_time": "2022-05-15T14:44:33.700Z"
   },
   {
    "duration": 15,
    "start_time": "2022-05-15T14:44:33.754Z"
   },
   {
    "duration": 16,
    "start_time": "2022-05-15T14:44:33.773Z"
   },
   {
    "duration": 63,
    "start_time": "2022-05-15T14:44:33.792Z"
   },
   {
    "duration": 21,
    "start_time": "2022-05-15T14:44:33.857Z"
   },
   {
    "duration": 10,
    "start_time": "2022-05-15T14:44:33.881Z"
   },
   {
    "duration": 14,
    "start_time": "2022-05-15T14:44:33.893Z"
   },
   {
    "duration": 557,
    "start_time": "2022-05-15T14:44:33.911Z"
   },
   {
    "duration": 294,
    "start_time": "2022-05-15T14:44:34.471Z"
   },
   {
    "duration": 12,
    "start_time": "2022-05-15T14:44:34.767Z"
   },
   {
    "duration": 262,
    "start_time": "2022-05-15T14:44:34.781Z"
   },
   {
    "duration": 16,
    "start_time": "2022-05-15T14:44:35.045Z"
   },
   {
    "duration": 230,
    "start_time": "2022-05-15T14:44:35.064Z"
   },
   {
    "duration": 344,
    "start_time": "2022-05-15T14:44:35.296Z"
   },
   {
    "duration": 226,
    "start_time": "2022-05-15T14:44:35.643Z"
   },
   {
    "duration": 223,
    "start_time": "2022-05-15T14:44:35.872Z"
   },
   {
    "duration": 355,
    "start_time": "2022-05-15T14:44:36.097Z"
   },
   {
    "duration": 375,
    "start_time": "2022-05-15T14:44:36.455Z"
   },
   {
    "duration": 19,
    "start_time": "2022-05-15T14:44:36.834Z"
   },
   {
    "duration": 15,
    "start_time": "2022-05-15T14:44:36.857Z"
   },
   {
    "duration": 14,
    "start_time": "2022-05-15T14:44:36.880Z"
   },
   {
    "duration": 222,
    "start_time": "2022-05-15T14:44:36.897Z"
   },
   {
    "duration": 300,
    "start_time": "2022-05-15T14:44:37.121Z"
   },
   {
    "duration": 223,
    "start_time": "2022-05-15T14:44:37.423Z"
   },
   {
    "duration": 208,
    "start_time": "2022-05-15T14:44:37.652Z"
   },
   {
    "duration": 212,
    "start_time": "2022-05-15T14:44:37.862Z"
   },
   {
    "duration": 229,
    "start_time": "2022-05-15T14:44:38.076Z"
   },
   {
    "duration": 208,
    "start_time": "2022-05-15T14:44:38.308Z"
   },
   {
    "duration": 215,
    "start_time": "2022-05-15T14:44:38.518Z"
   },
   {
    "duration": 184,
    "start_time": "2022-05-15T14:44:38.736Z"
   },
   {
    "duration": 187,
    "start_time": "2022-05-15T14:44:38.922Z"
   },
   {
    "duration": 180,
    "start_time": "2022-05-15T14:44:39.112Z"
   },
   {
    "duration": 262,
    "start_time": "2022-05-15T14:44:39.294Z"
   },
   {
    "duration": 354,
    "start_time": "2022-05-15T14:44:39.558Z"
   },
   {
    "duration": 174,
    "start_time": "2022-05-15T14:44:39.914Z"
   },
   {
    "duration": 184,
    "start_time": "2022-05-15T14:44:40.091Z"
   },
   {
    "duration": 176,
    "start_time": "2022-05-15T14:44:40.278Z"
   },
   {
    "duration": 1103,
    "start_time": "2022-05-15T14:44:40.456Z"
   },
   {
    "duration": 1109,
    "start_time": "2022-05-15T14:44:41.561Z"
   },
   {
    "duration": 1148,
    "start_time": "2022-05-15T14:44:42.672Z"
   },
   {
    "duration": 991,
    "start_time": "2022-05-15T14:44:43.822Z"
   },
   {
    "duration": 1142,
    "start_time": "2022-05-15T14:44:44.817Z"
   },
   {
    "duration": 1095,
    "start_time": "2022-05-15T14:44:45.962Z"
   },
   {
    "duration": 1241,
    "start_time": "2022-05-15T14:44:47.061Z"
   },
   {
    "duration": 1152,
    "start_time": "2022-05-15T14:44:48.306Z"
   },
   {
    "duration": 12,
    "start_time": "2022-05-15T14:44:49.460Z"
   },
   {
    "duration": 19,
    "start_time": "2022-05-15T14:44:49.474Z"
   },
   {
    "duration": 16,
    "start_time": "2022-05-15T14:44:49.495Z"
   },
   {
    "duration": 26,
    "start_time": "2022-05-15T14:44:49.553Z"
   },
   {
    "duration": 244,
    "start_time": "2022-05-15T14:44:49.581Z"
   },
   {
    "duration": 29,
    "start_time": "2022-05-15T14:44:49.827Z"
   },
   {
    "duration": 13,
    "start_time": "2022-05-15T14:44:49.858Z"
   },
   {
    "duration": 14,
    "start_time": "2022-05-15T14:44:49.874Z"
   },
   {
    "duration": 18,
    "start_time": "2022-05-15T14:44:49.890Z"
   },
   {
    "duration": 595,
    "start_time": "2022-05-15T14:44:49.910Z"
   },
   {
    "duration": 7,
    "start_time": "2022-05-15T14:44:50.507Z"
   },
   {
    "duration": 11,
    "start_time": "2022-05-15T14:44:50.517Z"
   },
   {
    "duration": 35,
    "start_time": "2022-05-15T14:44:50.530Z"
   },
   {
    "duration": 670,
    "start_time": "2022-05-15T14:44:50.568Z"
   },
   {
    "duration": 17,
    "start_time": "2022-05-15T14:44:51.240Z"
   },
   {
    "duration": 63,
    "start_time": "2022-05-15T17:36:08.279Z"
   },
   {
    "duration": 1362,
    "start_time": "2022-05-15T17:36:21.844Z"
   },
   {
    "duration": 219,
    "start_time": "2022-05-15T17:36:23.209Z"
   },
   {
    "duration": 0,
    "start_time": "2022-05-15T17:36:23.432Z"
   },
   {
    "duration": 0,
    "start_time": "2022-05-15T17:36:23.433Z"
   },
   {
    "duration": 0,
    "start_time": "2022-05-15T17:36:23.433Z"
   },
   {
    "duration": 0,
    "start_time": "2022-05-15T17:36:23.434Z"
   },
   {
    "duration": 0,
    "start_time": "2022-05-15T17:36:23.435Z"
   },
   {
    "duration": 0,
    "start_time": "2022-05-15T17:36:23.436Z"
   },
   {
    "duration": 0,
    "start_time": "2022-05-15T17:36:23.437Z"
   },
   {
    "duration": 0,
    "start_time": "2022-05-15T17:36:23.439Z"
   },
   {
    "duration": 0,
    "start_time": "2022-05-15T17:36:23.440Z"
   },
   {
    "duration": 0,
    "start_time": "2022-05-15T17:36:23.441Z"
   },
   {
    "duration": 0,
    "start_time": "2022-05-15T17:36:23.442Z"
   },
   {
    "duration": 0,
    "start_time": "2022-05-15T17:36:23.443Z"
   },
   {
    "duration": 0,
    "start_time": "2022-05-15T17:36:23.444Z"
   },
   {
    "duration": 0,
    "start_time": "2022-05-15T17:36:23.446Z"
   },
   {
    "duration": 0,
    "start_time": "2022-05-15T17:36:23.447Z"
   },
   {
    "duration": 0,
    "start_time": "2022-05-15T17:36:23.448Z"
   },
   {
    "duration": 0,
    "start_time": "2022-05-15T17:36:23.449Z"
   },
   {
    "duration": 0,
    "start_time": "2022-05-15T17:36:23.450Z"
   },
   {
    "duration": 0,
    "start_time": "2022-05-15T17:36:23.451Z"
   },
   {
    "duration": 0,
    "start_time": "2022-05-15T17:36:23.452Z"
   },
   {
    "duration": 0,
    "start_time": "2022-05-15T17:36:23.453Z"
   },
   {
    "duration": 0,
    "start_time": "2022-05-15T17:36:23.454Z"
   },
   {
    "duration": 0,
    "start_time": "2022-05-15T17:36:23.455Z"
   },
   {
    "duration": 0,
    "start_time": "2022-05-15T17:36:23.456Z"
   },
   {
    "duration": 1,
    "start_time": "2022-05-15T17:36:23.457Z"
   },
   {
    "duration": 0,
    "start_time": "2022-05-15T17:36:23.459Z"
   },
   {
    "duration": 0,
    "start_time": "2022-05-15T17:36:23.460Z"
   },
   {
    "duration": 0,
    "start_time": "2022-05-15T17:36:23.461Z"
   },
   {
    "duration": 0,
    "start_time": "2022-05-15T17:36:23.461Z"
   },
   {
    "duration": 0,
    "start_time": "2022-05-15T17:36:23.462Z"
   },
   {
    "duration": 0,
    "start_time": "2022-05-15T17:36:23.463Z"
   },
   {
    "duration": 0,
    "start_time": "2022-05-15T17:36:23.464Z"
   },
   {
    "duration": 0,
    "start_time": "2022-05-15T17:36:23.465Z"
   },
   {
    "duration": 0,
    "start_time": "2022-05-15T17:36:23.466Z"
   },
   {
    "duration": 0,
    "start_time": "2022-05-15T17:36:23.467Z"
   },
   {
    "duration": 0,
    "start_time": "2022-05-15T17:36:23.468Z"
   },
   {
    "duration": 0,
    "start_time": "2022-05-15T17:36:23.469Z"
   },
   {
    "duration": 0,
    "start_time": "2022-05-15T17:36:23.523Z"
   },
   {
    "duration": 0,
    "start_time": "2022-05-15T17:36:23.524Z"
   },
   {
    "duration": 0,
    "start_time": "2022-05-15T17:36:23.525Z"
   },
   {
    "duration": 0,
    "start_time": "2022-05-15T17:36:23.526Z"
   },
   {
    "duration": 0,
    "start_time": "2022-05-15T17:36:23.527Z"
   },
   {
    "duration": 0,
    "start_time": "2022-05-15T17:36:23.529Z"
   },
   {
    "duration": 0,
    "start_time": "2022-05-15T17:36:23.530Z"
   },
   {
    "duration": 0,
    "start_time": "2022-05-15T17:36:23.531Z"
   },
   {
    "duration": 0,
    "start_time": "2022-05-15T17:36:23.532Z"
   },
   {
    "duration": 0,
    "start_time": "2022-05-15T17:36:23.533Z"
   },
   {
    "duration": 0,
    "start_time": "2022-05-15T17:36:23.534Z"
   },
   {
    "duration": 0,
    "start_time": "2022-05-15T17:36:23.535Z"
   },
   {
    "duration": 0,
    "start_time": "2022-05-15T17:36:23.536Z"
   },
   {
    "duration": 0,
    "start_time": "2022-05-15T17:36:23.538Z"
   },
   {
    "duration": 0,
    "start_time": "2022-05-15T17:36:23.539Z"
   },
   {
    "duration": 0,
    "start_time": "2022-05-15T17:36:23.540Z"
   },
   {
    "duration": 0,
    "start_time": "2022-05-15T17:36:23.541Z"
   },
   {
    "duration": 0,
    "start_time": "2022-05-15T17:36:23.542Z"
   },
   {
    "duration": 0,
    "start_time": "2022-05-15T17:36:23.544Z"
   },
   {
    "duration": 0,
    "start_time": "2022-05-15T17:36:23.544Z"
   },
   {
    "duration": 0,
    "start_time": "2022-05-15T17:36:23.546Z"
   },
   {
    "duration": 0,
    "start_time": "2022-05-15T17:36:23.547Z"
   },
   {
    "duration": 0,
    "start_time": "2022-05-15T17:36:23.548Z"
   },
   {
    "duration": 0,
    "start_time": "2022-05-15T17:36:23.549Z"
   },
   {
    "duration": 0,
    "start_time": "2022-05-15T17:36:23.550Z"
   },
   {
    "duration": 0,
    "start_time": "2022-05-15T17:36:23.552Z"
   },
   {
    "duration": 0,
    "start_time": "2022-05-15T17:36:23.553Z"
   },
   {
    "duration": 0,
    "start_time": "2022-05-15T17:36:23.555Z"
   },
   {
    "duration": 0,
    "start_time": "2022-05-15T17:36:23.556Z"
   },
   {
    "duration": 0,
    "start_time": "2022-05-15T17:36:23.557Z"
   },
   {
    "duration": 1105,
    "start_time": "2022-05-15T17:38:26.671Z"
   },
   {
    "duration": 44,
    "start_time": "2022-05-15T17:38:27.778Z"
   },
   {
    "duration": 32,
    "start_time": "2022-05-15T17:38:27.823Z"
   },
   {
    "duration": 16,
    "start_time": "2022-05-15T17:38:27.857Z"
   },
   {
    "duration": 19,
    "start_time": "2022-05-15T17:38:27.876Z"
   },
   {
    "duration": 36,
    "start_time": "2022-05-15T17:38:27.896Z"
   },
   {
    "duration": 16,
    "start_time": "2022-05-15T17:38:27.934Z"
   },
   {
    "duration": 5,
    "start_time": "2022-05-15T17:38:27.952Z"
   },
   {
    "duration": 8,
    "start_time": "2022-05-15T17:38:27.959Z"
   },
   {
    "duration": 3,
    "start_time": "2022-05-15T17:38:27.969Z"
   },
   {
    "duration": 59,
    "start_time": "2022-05-15T17:38:27.974Z"
   },
   {
    "duration": 22,
    "start_time": "2022-05-15T17:38:28.034Z"
   },
   {
    "duration": 25,
    "start_time": "2022-05-15T17:38:28.058Z"
   },
   {
    "duration": 37,
    "start_time": "2022-05-15T17:38:28.087Z"
   },
   {
    "duration": 7,
    "start_time": "2022-05-15T17:38:28.126Z"
   },
   {
    "duration": 9,
    "start_time": "2022-05-15T17:38:28.135Z"
   },
   {
    "duration": 265,
    "start_time": "2022-05-15T17:38:28.146Z"
   },
   {
    "duration": 171,
    "start_time": "2022-05-15T17:38:28.413Z"
   },
   {
    "duration": 9,
    "start_time": "2022-05-15T17:38:28.585Z"
   },
   {
    "duration": 156,
    "start_time": "2022-05-15T17:38:28.596Z"
   },
   {
    "duration": 7,
    "start_time": "2022-05-15T17:38:28.754Z"
   },
   {
    "duration": 143,
    "start_time": "2022-05-15T17:38:28.763Z"
   },
   {
    "duration": 149,
    "start_time": "2022-05-15T17:38:28.908Z"
   },
   {
    "duration": 138,
    "start_time": "2022-05-15T17:38:29.059Z"
   },
   {
    "duration": 135,
    "start_time": "2022-05-15T17:38:29.199Z"
   },
   {
    "duration": 145,
    "start_time": "2022-05-15T17:38:29.335Z"
   },
   {
    "duration": 153,
    "start_time": "2022-05-15T17:38:29.481Z"
   },
   {
    "duration": 9,
    "start_time": "2022-05-15T17:38:29.636Z"
   },
   {
    "duration": 8,
    "start_time": "2022-05-15T17:38:29.647Z"
   },
   {
    "duration": 9,
    "start_time": "2022-05-15T17:38:29.657Z"
   },
   {
    "duration": 157,
    "start_time": "2022-05-15T17:38:29.667Z"
   },
   {
    "duration": 235,
    "start_time": "2022-05-15T17:38:29.826Z"
   },
   {
    "duration": 157,
    "start_time": "2022-05-15T17:38:30.063Z"
   },
   {
    "duration": 133,
    "start_time": "2022-05-15T17:38:30.223Z"
   },
   {
    "duration": 139,
    "start_time": "2022-05-15T17:38:30.358Z"
   },
   {
    "duration": 150,
    "start_time": "2022-05-15T17:38:30.499Z"
   },
   {
    "duration": 142,
    "start_time": "2022-05-15T17:38:30.651Z"
   },
   {
    "duration": 142,
    "start_time": "2022-05-15T17:38:30.795Z"
   },
   {
    "duration": 114,
    "start_time": "2022-05-15T17:38:30.939Z"
   },
   {
    "duration": 119,
    "start_time": "2022-05-15T17:38:31.054Z"
   },
   {
    "duration": 108,
    "start_time": "2022-05-15T17:38:31.178Z"
   },
   {
    "duration": 121,
    "start_time": "2022-05-15T17:38:31.288Z"
   },
   {
    "duration": 194,
    "start_time": "2022-05-15T17:38:31.411Z"
   },
   {
    "duration": 117,
    "start_time": "2022-05-15T17:38:31.607Z"
   },
   {
    "duration": 119,
    "start_time": "2022-05-15T17:38:31.727Z"
   },
   {
    "duration": 153,
    "start_time": "2022-05-15T17:38:31.848Z"
   },
   {
    "duration": 1022,
    "start_time": "2022-05-15T17:38:32.003Z"
   },
   {
    "duration": 995,
    "start_time": "2022-05-15T17:38:33.027Z"
   },
   {
    "duration": 1073,
    "start_time": "2022-05-15T17:38:34.024Z"
   },
   {
    "duration": 888,
    "start_time": "2022-05-15T17:38:35.099Z"
   },
   {
    "duration": 1018,
    "start_time": "2022-05-15T17:38:35.989Z"
   },
   {
    "duration": 979,
    "start_time": "2022-05-15T17:38:37.009Z"
   },
   {
    "duration": 1059,
    "start_time": "2022-05-15T17:38:37.990Z"
   },
   {
    "duration": 704,
    "start_time": "2022-05-15T17:38:39.051Z"
   },
   {
    "duration": 9,
    "start_time": "2022-05-15T17:38:39.757Z"
   },
   {
    "duration": 14,
    "start_time": "2022-05-15T17:38:39.768Z"
   },
   {
    "duration": 41,
    "start_time": "2022-05-15T17:38:39.784Z"
   },
   {
    "duration": 19,
    "start_time": "2022-05-15T17:38:39.827Z"
   },
   {
    "duration": 152,
    "start_time": "2022-05-15T17:38:39.848Z"
   },
   {
    "duration": 10,
    "start_time": "2022-05-15T17:38:40.002Z"
   },
   {
    "duration": 10,
    "start_time": "2022-05-15T17:38:40.023Z"
   },
   {
    "duration": 13,
    "start_time": "2022-05-15T17:38:40.035Z"
   },
   {
    "duration": 8,
    "start_time": "2022-05-15T17:38:40.050Z"
   },
   {
    "duration": 342,
    "start_time": "2022-05-15T17:38:40.059Z"
   },
   {
    "duration": 6,
    "start_time": "2022-05-15T17:38:40.403Z"
   },
   {
    "duration": 6,
    "start_time": "2022-05-15T17:38:40.423Z"
   },
   {
    "duration": 10,
    "start_time": "2022-05-15T17:38:40.431Z"
   },
   {
    "duration": 413,
    "start_time": "2022-05-15T17:38:40.442Z"
   },
   {
    "duration": 6,
    "start_time": "2022-05-15T17:38:40.857Z"
   },
   {
    "duration": 177,
    "start_time": "2022-05-15T17:40:46.071Z"
   },
   {
    "duration": 167,
    "start_time": "2022-05-15T17:40:57.045Z"
   },
   {
    "duration": 110,
    "start_time": "2022-05-15T17:41:03.225Z"
   },
   {
    "duration": 1209,
    "start_time": "2022-05-15T17:42:27.985Z"
   },
   {
    "duration": 45,
    "start_time": "2022-05-15T17:42:29.196Z"
   },
   {
    "duration": 37,
    "start_time": "2022-05-15T17:42:29.243Z"
   },
   {
    "duration": 16,
    "start_time": "2022-05-15T17:42:29.282Z"
   },
   {
    "duration": 40,
    "start_time": "2022-05-15T17:42:29.299Z"
   },
   {
    "duration": 10,
    "start_time": "2022-05-15T17:42:29.340Z"
   },
   {
    "duration": 15,
    "start_time": "2022-05-15T17:42:29.352Z"
   },
   {
    "duration": 4,
    "start_time": "2022-05-15T17:42:29.369Z"
   },
   {
    "duration": 7,
    "start_time": "2022-05-15T17:42:29.375Z"
   },
   {
    "duration": 3,
    "start_time": "2022-05-15T17:42:29.385Z"
   },
   {
    "duration": 43,
    "start_time": "2022-05-15T17:42:29.389Z"
   },
   {
    "duration": 18,
    "start_time": "2022-05-15T17:42:29.434Z"
   },
   {
    "duration": 18,
    "start_time": "2022-05-15T17:42:29.453Z"
   },
   {
    "duration": 14,
    "start_time": "2022-05-15T17:42:29.473Z"
   },
   {
    "duration": 40,
    "start_time": "2022-05-15T17:42:29.489Z"
   },
   {
    "duration": 10,
    "start_time": "2022-05-15T17:42:29.532Z"
   },
   {
    "duration": 288,
    "start_time": "2022-05-15T17:42:29.544Z"
   },
   {
    "duration": 209,
    "start_time": "2022-05-15T17:42:29.834Z"
   },
   {
    "duration": 9,
    "start_time": "2022-05-15T17:42:30.044Z"
   },
   {
    "duration": 160,
    "start_time": "2022-05-15T17:42:30.054Z"
   },
   {
    "duration": 9,
    "start_time": "2022-05-15T17:42:30.222Z"
   },
   {
    "duration": 158,
    "start_time": "2022-05-15T17:42:30.236Z"
   },
   {
    "duration": 154,
    "start_time": "2022-05-15T17:42:30.397Z"
   },
   {
    "duration": 151,
    "start_time": "2022-05-15T17:42:30.553Z"
   },
   {
    "duration": 142,
    "start_time": "2022-05-15T17:42:30.706Z"
   },
   {
    "duration": 151,
    "start_time": "2022-05-15T17:42:30.850Z"
   },
   {
    "duration": 152,
    "start_time": "2022-05-15T17:42:31.002Z"
   },
   {
    "duration": 7,
    "start_time": "2022-05-15T17:42:31.159Z"
   },
   {
    "duration": 11,
    "start_time": "2022-05-15T17:42:31.168Z"
   },
   {
    "duration": 19,
    "start_time": "2022-05-15T17:42:31.181Z"
   },
   {
    "duration": 151,
    "start_time": "2022-05-15T17:42:31.202Z"
   },
   {
    "duration": 228,
    "start_time": "2022-05-15T17:42:31.355Z"
   },
   {
    "duration": 140,
    "start_time": "2022-05-15T17:42:31.585Z"
   },
   {
    "duration": 129,
    "start_time": "2022-05-15T17:42:31.727Z"
   },
   {
    "duration": 154,
    "start_time": "2022-05-15T17:42:31.858Z"
   },
   {
    "duration": 136,
    "start_time": "2022-05-15T17:42:32.014Z"
   },
   {
    "duration": 141,
    "start_time": "2022-05-15T17:42:32.152Z"
   },
   {
    "duration": 128,
    "start_time": "2022-05-15T17:42:32.295Z"
   },
   {
    "duration": 114,
    "start_time": "2022-05-15T17:42:32.425Z"
   },
   {
    "duration": 169,
    "start_time": "2022-05-15T17:42:32.541Z"
   },
   {
    "duration": 139,
    "start_time": "2022-05-15T17:42:32.713Z"
   },
   {
    "duration": 176,
    "start_time": "2022-05-15T17:42:32.854Z"
   },
   {
    "duration": 266,
    "start_time": "2022-05-15T17:42:33.032Z"
   },
   {
    "duration": 179,
    "start_time": "2022-05-15T17:42:33.301Z"
   },
   {
    "duration": 177,
    "start_time": "2022-05-15T17:42:33.482Z"
   },
   {
    "duration": 114,
    "start_time": "2022-05-15T17:42:33.662Z"
   },
   {
    "duration": 672,
    "start_time": "2022-05-15T17:42:33.777Z"
   },
   {
    "duration": 653,
    "start_time": "2022-05-15T17:42:34.451Z"
   },
   {
    "duration": 749,
    "start_time": "2022-05-15T17:42:35.106Z"
   },
   {
    "duration": 717,
    "start_time": "2022-05-15T17:42:35.857Z"
   },
   {
    "duration": 692,
    "start_time": "2022-05-15T17:42:36.576Z"
   },
   {
    "duration": 662,
    "start_time": "2022-05-15T17:42:37.270Z"
   },
   {
    "duration": 817,
    "start_time": "2022-05-15T17:42:37.935Z"
   },
   {
    "duration": 692,
    "start_time": "2022-05-15T17:42:38.754Z"
   },
   {
    "duration": 8,
    "start_time": "2022-05-15T17:42:39.448Z"
   },
   {
    "duration": 23,
    "start_time": "2022-05-15T17:42:39.457Z"
   },
   {
    "duration": 11,
    "start_time": "2022-05-15T17:42:39.482Z"
   },
   {
    "duration": 41,
    "start_time": "2022-05-15T17:42:39.495Z"
   },
   {
    "duration": 68,
    "start_time": "2022-05-15T17:42:39.538Z"
   },
   {
    "duration": 22,
    "start_time": "2022-05-15T17:42:39.607Z"
   },
   {
    "duration": 8,
    "start_time": "2022-05-15T17:42:39.631Z"
   },
   {
    "duration": 8,
    "start_time": "2022-05-15T17:42:39.641Z"
   },
   {
    "duration": 8,
    "start_time": "2022-05-15T17:42:39.650Z"
   },
   {
    "duration": 357,
    "start_time": "2022-05-15T17:42:39.659Z"
   },
   {
    "duration": 6,
    "start_time": "2022-05-15T17:42:40.021Z"
   },
   {
    "duration": 11,
    "start_time": "2022-05-15T17:42:40.028Z"
   },
   {
    "duration": 11,
    "start_time": "2022-05-15T17:42:40.041Z"
   },
   {
    "duration": 423,
    "start_time": "2022-05-15T17:42:40.054Z"
   },
   {
    "duration": 5,
    "start_time": "2022-05-15T17:42:40.479Z"
   },
   {
    "duration": 196,
    "start_time": "2022-05-15T17:43:27.818Z"
   },
   {
    "duration": 129,
    "start_time": "2022-05-15T17:45:48.230Z"
   },
   {
    "duration": 10,
    "start_time": "2022-05-15T17:45:50.864Z"
   },
   {
    "duration": 10,
    "start_time": "2022-05-15T17:45:54.401Z"
   },
   {
    "duration": 1342,
    "start_time": "2022-05-15T17:46:19.035Z"
   },
   {
    "duration": 63,
    "start_time": "2022-05-15T17:46:20.380Z"
   },
   {
    "duration": 47,
    "start_time": "2022-05-15T17:46:20.445Z"
   },
   {
    "duration": 36,
    "start_time": "2022-05-15T17:46:20.495Z"
   },
   {
    "duration": 26,
    "start_time": "2022-05-15T17:46:20.533Z"
   },
   {
    "duration": 14,
    "start_time": "2022-05-15T17:46:20.562Z"
   },
   {
    "duration": 49,
    "start_time": "2022-05-15T17:46:20.578Z"
   },
   {
    "duration": 7,
    "start_time": "2022-05-15T17:46:20.629Z"
   },
   {
    "duration": 16,
    "start_time": "2022-05-15T17:46:20.638Z"
   },
   {
    "duration": 4,
    "start_time": "2022-05-15T17:46:20.658Z"
   },
   {
    "duration": 16,
    "start_time": "2022-05-15T17:46:20.664Z"
   },
   {
    "duration": 47,
    "start_time": "2022-05-15T17:46:20.682Z"
   },
   {
    "duration": 20,
    "start_time": "2022-05-15T17:46:20.731Z"
   },
   {
    "duration": 14,
    "start_time": "2022-05-15T17:46:20.753Z"
   },
   {
    "duration": 7,
    "start_time": "2022-05-15T17:46:20.769Z"
   },
   {
    "duration": 13,
    "start_time": "2022-05-15T17:46:20.777Z"
   },
   {
    "duration": 298,
    "start_time": "2022-05-15T17:46:20.792Z"
   },
   {
    "duration": 183,
    "start_time": "2022-05-15T17:46:21.092Z"
   },
   {
    "duration": 10,
    "start_time": "2022-05-15T17:46:21.277Z"
   },
   {
    "duration": 165,
    "start_time": "2022-05-15T17:46:21.289Z"
   },
   {
    "duration": 8,
    "start_time": "2022-05-15T17:46:21.455Z"
   },
   {
    "duration": 160,
    "start_time": "2022-05-15T17:46:21.465Z"
   },
   {
    "duration": 148,
    "start_time": "2022-05-15T17:46:21.627Z"
   },
   {
    "duration": 162,
    "start_time": "2022-05-15T17:46:21.776Z"
   },
   {
    "duration": 140,
    "start_time": "2022-05-15T17:46:21.940Z"
   },
   {
    "duration": 147,
    "start_time": "2022-05-15T17:46:22.082Z"
   },
   {
    "duration": 143,
    "start_time": "2022-05-15T17:46:22.231Z"
   },
   {
    "duration": 8,
    "start_time": "2022-05-15T17:46:22.380Z"
   },
   {
    "duration": 9,
    "start_time": "2022-05-15T17:46:22.389Z"
   },
   {
    "duration": 27,
    "start_time": "2022-05-15T17:46:22.400Z"
   },
   {
    "duration": 131,
    "start_time": "2022-05-15T17:46:22.429Z"
   },
   {
    "duration": 250,
    "start_time": "2022-05-15T17:46:22.562Z"
   },
   {
    "duration": 148,
    "start_time": "2022-05-15T17:46:22.813Z"
   },
   {
    "duration": 137,
    "start_time": "2022-05-15T17:46:22.963Z"
   },
   {
    "duration": 148,
    "start_time": "2022-05-15T17:46:23.102Z"
   },
   {
    "duration": 152,
    "start_time": "2022-05-15T17:46:23.251Z"
   },
   {
    "duration": 155,
    "start_time": "2022-05-15T17:46:23.405Z"
   },
   {
    "duration": 160,
    "start_time": "2022-05-15T17:46:23.563Z"
   },
   {
    "duration": 129,
    "start_time": "2022-05-15T17:46:23.725Z"
   },
   {
    "duration": 128,
    "start_time": "2022-05-15T17:46:23.856Z"
   },
   {
    "duration": 118,
    "start_time": "2022-05-15T17:46:23.987Z"
   },
   {
    "duration": 146,
    "start_time": "2022-05-15T17:46:24.107Z"
   },
   {
    "duration": 216,
    "start_time": "2022-05-15T17:46:24.256Z"
   },
   {
    "duration": 121,
    "start_time": "2022-05-15T17:46:24.474Z"
   },
   {
    "duration": 116,
    "start_time": "2022-05-15T17:46:24.597Z"
   },
   {
    "duration": 127,
    "start_time": "2022-05-15T17:46:24.724Z"
   },
   {
    "duration": 831,
    "start_time": "2022-05-15T17:46:24.853Z"
   },
   {
    "duration": 770,
    "start_time": "2022-05-15T17:46:25.686Z"
   },
   {
    "duration": 789,
    "start_time": "2022-05-15T17:46:26.457Z"
   },
   {
    "duration": 685,
    "start_time": "2022-05-15T17:46:27.249Z"
   },
   {
    "duration": 905,
    "start_time": "2022-05-15T17:46:27.936Z"
   },
   {
    "duration": 686,
    "start_time": "2022-05-15T17:46:28.843Z"
   },
   {
    "duration": 819,
    "start_time": "2022-05-15T17:46:29.532Z"
   },
   {
    "duration": 685,
    "start_time": "2022-05-15T17:46:30.353Z"
   },
   {
    "duration": 8,
    "start_time": "2022-05-15T17:46:31.040Z"
   },
   {
    "duration": 21,
    "start_time": "2022-05-15T17:46:31.050Z"
   },
   {
    "duration": 16,
    "start_time": "2022-05-15T17:46:31.074Z"
   },
   {
    "duration": 42,
    "start_time": "2022-05-15T17:46:31.093Z"
   },
   {
    "duration": 90,
    "start_time": "2022-05-15T17:46:31.137Z"
   },
   {
    "duration": 10,
    "start_time": "2022-05-15T17:46:31.229Z"
   },
   {
    "duration": 12,
    "start_time": "2022-05-15T17:46:31.241Z"
   },
   {
    "duration": 9,
    "start_time": "2022-05-15T17:46:31.255Z"
   },
   {
    "duration": 14,
    "start_time": "2022-05-15T17:46:31.266Z"
   },
   {
    "duration": 335,
    "start_time": "2022-05-15T17:46:31.307Z"
   },
   {
    "duration": 6,
    "start_time": "2022-05-15T17:46:31.644Z"
   },
   {
    "duration": 9,
    "start_time": "2022-05-15T17:46:31.652Z"
   },
   {
    "duration": 11,
    "start_time": "2022-05-15T17:46:31.663Z"
   },
   {
    "duration": 442,
    "start_time": "2022-05-15T17:46:31.676Z"
   },
   {
    "duration": 6,
    "start_time": "2022-05-15T17:46:32.119Z"
   },
   {
    "duration": 134,
    "start_time": "2022-05-15T17:47:04.214Z"
   },
   {
    "duration": 130,
    "start_time": "2022-05-15T17:47:13.896Z"
   },
   {
    "duration": 125,
    "start_time": "2022-05-15T17:47:19.589Z"
   },
   {
    "duration": 139,
    "start_time": "2022-05-15T17:47:25.721Z"
   },
   {
    "duration": 126,
    "start_time": "2022-05-15T17:47:31.197Z"
   },
   {
    "duration": 129,
    "start_time": "2022-05-15T17:47:36.484Z"
   },
   {
    "duration": 128,
    "start_time": "2022-05-15T17:47:43.506Z"
   },
   {
    "duration": 102,
    "start_time": "2022-05-15T17:47:52.895Z"
   }
  ],
  "kernelspec": {
   "display_name": "Python 3 (ipykernel)",
   "language": "python",
   "name": "python3"
  },
  "language_info": {
   "codemirror_mode": {
    "name": "ipython",
    "version": 3
   },
   "file_extension": ".py",
   "mimetype": "text/x-python",
   "name": "python",
   "nbconvert_exporter": "python",
   "pygments_lexer": "ipython3",
   "version": "3.9.7"
  },
  "toc": {
   "base_numbering": 1,
   "nav_menu": {},
   "number_sections": true,
   "sideBar": true,
   "skip_h1_title": false,
   "title_cell": "Table of Contents",
   "title_sidebar": "Contents",
   "toc_cell": false,
   "toc_position": {},
   "toc_section_display": true,
   "toc_window_display": false
  }
 },
 "nbformat": 4,
 "nbformat_minor": 5
}
